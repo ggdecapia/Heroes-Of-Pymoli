{
 "cells": [
  {
   "cell_type": "markdown",
   "metadata": {},
   "source": [
    "### Note\n",
    "* Instructions have been included for each segment. You do not have to follow them exactly, but they are included to help you think through the steps."
   ]
  },
  {
   "cell_type": "code",
   "execution_count": 1,
   "metadata": {},
   "outputs": [],
   "source": [
    "# Dependencies and Setup\n",
    "import pandas as pd\n",
    "import numpy as np\n",
    "\n",
    "# File to Load\n",
    "file_to_load = \"Resources/purchase_data.csv\"\n",
    "\n",
    "# Read Purchasing File and store into Pandas data frame\n",
    "purchase_data = pd.read_csv(file_to_load)"
   ]
  },
  {
   "cell_type": "markdown",
   "metadata": {},
   "source": [
    "## Player Count"
   ]
  },
  {
   "cell_type": "markdown",
   "metadata": {},
   "source": [
    "* Display the total number of players\n"
   ]
  },
  {
   "cell_type": "code",
   "execution_count": 2,
   "metadata": {},
   "outputs": [],
   "source": [
    "# get the number of players using len function and store results into a dataframe\n",
    "No_of_Players = len(purchase_data[\"SN\"].unique())\n",
    "No_of_Players_df = pd.DataFrame({\"Total Players\": [No_of_Players]})"
   ]
  },
  {
   "cell_type": "code",
   "execution_count": 3,
   "metadata": {},
   "outputs": [
    {
     "data": {
      "text/html": [
       "<div>\n",
       "<style scoped>\n",
       "    .dataframe tbody tr th:only-of-type {\n",
       "        vertical-align: middle;\n",
       "    }\n",
       "\n",
       "    .dataframe tbody tr th {\n",
       "        vertical-align: top;\n",
       "    }\n",
       "\n",
       "    .dataframe thead th {\n",
       "        text-align: right;\n",
       "    }\n",
       "</style>\n",
       "<table border=\"1\" class=\"dataframe\">\n",
       "  <thead>\n",
       "    <tr style=\"text-align: right;\">\n",
       "      <th></th>\n",
       "      <th>Total Players</th>\n",
       "    </tr>\n",
       "  </thead>\n",
       "  <tbody>\n",
       "    <tr>\n",
       "      <th>0</th>\n",
       "      <td>576</td>\n",
       "    </tr>\n",
       "  </tbody>\n",
       "</table>\n",
       "</div>"
      ],
      "text/plain": [
       "   Total Players\n",
       "0            576"
      ]
     },
     "execution_count": 3,
     "metadata": {},
     "output_type": "execute_result"
    }
   ],
   "source": [
    "# display result\n",
    "No_of_Players_df"
   ]
  },
  {
   "cell_type": "markdown",
   "metadata": {},
   "source": [
    "## Purchasing Analysis (Total)"
   ]
  },
  {
   "cell_type": "markdown",
   "metadata": {},
   "source": [
    "* Run basic calculations to obtain number of unique items, average price, etc.\n",
    "\n",
    "\n",
    "* Create a summary data frame to hold the results\n",
    "\n",
    "\n",
    "* Optional: give the displayed data cleaner formatting\n",
    "\n",
    "\n",
    "* Display the summary data frame\n"
   ]
  },
  {
   "cell_type": "code",
   "execution_count": 4,
   "metadata": {},
   "outputs": [],
   "source": [
    "# calculate for the number of unique items\n",
    "No_of_Unique_Items = len(purchase_data[\"Item Name\"].unique())\n",
    "# calculate for the average price\n",
    "Average_Price = purchase_data[\"Price\"].mean()\n",
    "# count the number of purchases \n",
    "No_of_Purchases = len(purchase_data)\n",
    "# calculate for the total revenue\n",
    "Total_Revenue = purchase_data[\"Price\"].sum()"
   ]
  },
  {
   "cell_type": "code",
   "execution_count": 5,
   "metadata": {},
   "outputs": [],
   "source": [
    "# create a dataframe that will contain the summary details and format currency-type values\n",
    "Purchasing_Analysis_df = pd.DataFrame({\"Number of Unique Items\": [No_of_Unique_Items],\n",
    "                                     \"Average Price\": \"${0:,.2f}\".format(Average_Price),\n",
    "                                     \"Number of Purchases\": No_of_Purchases,\n",
    "                                     \"Total Revenue\": \"${0:,.2f}\".format(Total_Revenue)})"
   ]
  },
  {
   "cell_type": "code",
   "execution_count": 6,
   "metadata": {},
   "outputs": [
    {
     "data": {
      "text/html": [
       "<style  type=\"text/css\" >\n",
       "    #T_875ea662_c473_11ea_a366_b0c0909a9ff8row0_col0 {\n",
       "            text-align:  left;\n",
       "        }    #T_875ea662_c473_11ea_a366_b0c0909a9ff8row0_col1 {\n",
       "            text-align:  left;\n",
       "        }    #T_875ea662_c473_11ea_a366_b0c0909a9ff8row0_col2 {\n",
       "            text-align:  left;\n",
       "        }    #T_875ea662_c473_11ea_a366_b0c0909a9ff8row0_col3 {\n",
       "            text-align:  left;\n",
       "        }</style><table id=\"T_875ea662_c473_11ea_a366_b0c0909a9ff8\" ><thead>    <tr>        <th class=\"blank level0\" ></th>        <th class=\"col_heading level0 col0\" >Number of Unique Items</th>        <th class=\"col_heading level0 col1\" >Average Price</th>        <th class=\"col_heading level0 col2\" >Number of Purchases</th>        <th class=\"col_heading level0 col3\" >Total Revenue</th>    </tr></thead><tbody>\n",
       "                <tr>\n",
       "                        <th id=\"T_875ea662_c473_11ea_a366_b0c0909a9ff8level0_row0\" class=\"row_heading level0 row0\" >0</th>\n",
       "                        <td id=\"T_875ea662_c473_11ea_a366_b0c0909a9ff8row0_col0\" class=\"data row0 col0\" >179</td>\n",
       "                        <td id=\"T_875ea662_c473_11ea_a366_b0c0909a9ff8row0_col1\" class=\"data row0 col1\" >$3.05</td>\n",
       "                        <td id=\"T_875ea662_c473_11ea_a366_b0c0909a9ff8row0_col2\" class=\"data row0 col2\" >780</td>\n",
       "                        <td id=\"T_875ea662_c473_11ea_a366_b0c0909a9ff8row0_col3\" class=\"data row0 col3\" >$2,379.77</td>\n",
       "            </tr>\n",
       "    </tbody></table>"
      ],
      "text/plain": [
       "<pandas.io.formats.style.Styler at 0x1dbf8585f88>"
      ]
     },
     "execution_count": 6,
     "metadata": {},
     "output_type": "execute_result"
    }
   ],
   "source": [
    "# set column values to be left-justified\n",
    "Purchasing_Analysis_df = Purchasing_Analysis_df.style.set_properties(**{'text-align': 'left'})\n",
    "Purchasing_Analysis_df"
   ]
  },
  {
   "cell_type": "markdown",
   "metadata": {},
   "source": [
    "## Gender Demographics"
   ]
  },
  {
   "cell_type": "markdown",
   "metadata": {},
   "source": [
    "* Percentage and Count of Male Players\n",
    "\n",
    "\n",
    "* Percentage and Count of Female Players\n",
    "\n",
    "\n",
    "* Percentage and Count of Other / Non-Disclosed\n",
    "\n",
    "\n"
   ]
  },
  {
   "cell_type": "code",
   "execution_count": 7,
   "metadata": {},
   "outputs": [],
   "source": [
    "# create a dataframe containing SN & Gender columns\n",
    "Unique_Players_df = purchase_data[[\"SN\",\"Gender\"]]\n",
    "# drop duplicates to obtain unique set of players\n",
    "Unique_Players_df = Unique_Players_df.drop_duplicates(keep='last')"
   ]
  },
  {
   "cell_type": "code",
   "execution_count": 8,
   "metadata": {},
   "outputs": [],
   "source": [
    "# calculate for the total number by gender \n",
    "Gender_df = pd.DataFrame(Unique_Players_df[\"Gender\"].value_counts())\n",
    "# rename column to apply the correct label\n",
    "Gender_df = Gender_df.rename(columns={\"Gender\":\"Total Count\"})"
   ]
  },
  {
   "cell_type": "code",
   "execution_count": 9,
   "metadata": {},
   "outputs": [],
   "source": [
    "# compute for the percentage of players and add that column to the existing dataframe\n",
    "Gender_df[\"Percentage of Players\"] = (Gender_df[\"Total Count\"]/Unique_Players_df[\"Gender\"].count()*100).map(\"{:.2f}%\".format)"
   ]
  },
  {
   "cell_type": "code",
   "execution_count": 10,
   "metadata": {},
   "outputs": [
    {
     "data": {
      "text/html": [
       "<style  type=\"text/css\" >\n",
       "    #T_87b1a35c_c473_11ea_9c8a_b0c0909a9ff8row0_col0 {\n",
       "            text-align:  left;\n",
       "        }    #T_87b1a35c_c473_11ea_9c8a_b0c0909a9ff8row0_col1 {\n",
       "            text-align:  left;\n",
       "        }    #T_87b1a35c_c473_11ea_9c8a_b0c0909a9ff8row1_col0 {\n",
       "            text-align:  left;\n",
       "        }    #T_87b1a35c_c473_11ea_9c8a_b0c0909a9ff8row1_col1 {\n",
       "            text-align:  left;\n",
       "        }    #T_87b1a35c_c473_11ea_9c8a_b0c0909a9ff8row2_col0 {\n",
       "            text-align:  left;\n",
       "        }    #T_87b1a35c_c473_11ea_9c8a_b0c0909a9ff8row2_col1 {\n",
       "            text-align:  left;\n",
       "        }</style><table id=\"T_87b1a35c_c473_11ea_9c8a_b0c0909a9ff8\" ><thead>    <tr>        <th class=\"blank level0\" ></th>        <th class=\"col_heading level0 col0\" >Total Count</th>        <th class=\"col_heading level0 col1\" >Percentage of Players</th>    </tr></thead><tbody>\n",
       "                <tr>\n",
       "                        <th id=\"T_87b1a35c_c473_11ea_9c8a_b0c0909a9ff8level0_row0\" class=\"row_heading level0 row0\" >Male</th>\n",
       "                        <td id=\"T_87b1a35c_c473_11ea_9c8a_b0c0909a9ff8row0_col0\" class=\"data row0 col0\" >484</td>\n",
       "                        <td id=\"T_87b1a35c_c473_11ea_9c8a_b0c0909a9ff8row0_col1\" class=\"data row0 col1\" >84.03%</td>\n",
       "            </tr>\n",
       "            <tr>\n",
       "                        <th id=\"T_87b1a35c_c473_11ea_9c8a_b0c0909a9ff8level0_row1\" class=\"row_heading level0 row1\" >Female</th>\n",
       "                        <td id=\"T_87b1a35c_c473_11ea_9c8a_b0c0909a9ff8row1_col0\" class=\"data row1 col0\" >81</td>\n",
       "                        <td id=\"T_87b1a35c_c473_11ea_9c8a_b0c0909a9ff8row1_col1\" class=\"data row1 col1\" >14.06%</td>\n",
       "            </tr>\n",
       "            <tr>\n",
       "                        <th id=\"T_87b1a35c_c473_11ea_9c8a_b0c0909a9ff8level0_row2\" class=\"row_heading level0 row2\" >Other / Non-Disclosed</th>\n",
       "                        <td id=\"T_87b1a35c_c473_11ea_9c8a_b0c0909a9ff8row2_col0\" class=\"data row2 col0\" >11</td>\n",
       "                        <td id=\"T_87b1a35c_c473_11ea_9c8a_b0c0909a9ff8row2_col1\" class=\"data row2 col1\" >1.91%</td>\n",
       "            </tr>\n",
       "    </tbody></table>"
      ],
      "text/plain": [
       "<pandas.io.formats.style.Styler at 0x1dbf93abc88>"
      ]
     },
     "execution_count": 10,
     "metadata": {},
     "output_type": "execute_result"
    }
   ],
   "source": [
    "# set column values to be left-justified\n",
    "Gender_df = Gender_df.style.set_properties(**{'text-align': 'left'})\n",
    "Gender_df"
   ]
  },
  {
   "cell_type": "markdown",
   "metadata": {},
   "source": [
    "\n",
    "## Purchasing Analysis (Gender)"
   ]
  },
  {
   "cell_type": "markdown",
   "metadata": {},
   "source": [
    "* Run basic calculations to obtain purchase count, avg. purchase price, avg. purchase total per person etc. by gender\n",
    "\n",
    "\n",
    "\n",
    "\n",
    "* Create a summary data frame to hold the results\n",
    "\n",
    "\n",
    "* Optional: give the displayed data cleaner formatting\n",
    "\n",
    "\n",
    "* Display the summary data frame"
   ]
  },
  {
   "cell_type": "code",
   "execution_count": 11,
   "metadata": {},
   "outputs": [],
   "source": [
    "# create a new dataframe with SN, Gender & Price columns\n",
    "Purchase_df = purchase_data[[\"SN\",\"Gender\",\"Price\"]]"
   ]
  },
  {
   "cell_type": "code",
   "execution_count": 12,
   "metadata": {},
   "outputs": [],
   "source": [
    "# calculate the total purchase by Gender\n",
    "ByGender_Purchase = Purchase_df.groupby(\"Gender\")\n",
    "Total_Purchase_per_Gender = pd.DataFrame(ByGender_Purchase[\"Price\"].sum())\n",
    "Total_Purchase_per_Gender = Total_Purchase_per_Gender.reset_index(drop=False) "
   ]
  },
  {
   "cell_type": "code",
   "execution_count": 13,
   "metadata": {},
   "outputs": [],
   "source": [
    "# calcualte for the average purchase by Gender\n",
    "Average_per_Gender = pd.DataFrame(ByGender_Purchase[\"Price\"].mean())\n",
    "Average_per_Gender = Average_per_Gender.reset_index(drop=False)"
   ]
  },
  {
   "cell_type": "code",
   "execution_count": 14,
   "metadata": {},
   "outputs": [],
   "source": [
    "# calcualte for the total number of purchases by Gender\n",
    "Purchase_Count_per_Gender = pd.DataFrame(ByGender_Purchase[\"Price\"].count())\n",
    "Purchase_Count_per_Gender = Purchase_Count_per_Gender.reset_index(drop=False) "
   ]
  },
  {
   "cell_type": "code",
   "execution_count": 15,
   "metadata": {},
   "outputs": [],
   "source": [
    "# merge the 3 dataframes on Gender column\n",
    "By_Gender_df = pd.merge(Purchase_Count_per_Gender,Average_per_Gender,on=\"Gender\")\n",
    "By_Gender_df = pd.merge(By_Gender_df,Total_Purchase_per_Gender, on=\"Gender\")"
   ]
  },
  {
   "cell_type": "code",
   "execution_count": 16,
   "metadata": {},
   "outputs": [],
   "source": [
    "# rename the column labels to correspond to the content\n",
    "By_Gender_df = By_Gender_df.rename(columns={\"Price_x\":\"Purchase Count\",\n",
    "                                            \"Price_y\":\"Average Purchase Price\",\n",
    "                                            \"Price\":\"Total Purchase Value\"})"
   ]
  },
  {
   "cell_type": "code",
   "execution_count": 17,
   "metadata": {},
   "outputs": [],
   "source": [
    "# calcuate for the total purchase by person\n",
    "ByPerson_Purchase = Purchase_df.groupby(\"SN\")\n",
    "Total_per_Person_df = pd.DataFrame(ByPerson_Purchase[\"Price\"].sum())"
   ]
  },
  {
   "cell_type": "code",
   "execution_count": 18,
   "metadata": {},
   "outputs": [],
   "source": [
    "# obtain the gender of each person by merging with Total_per_Person_df to the Unique_Players_df\n",
    "Total_per_Person_df = pd.merge(Total_per_Person_df,Unique_Players_df, on=\"SN\")"
   ]
  },
  {
   "cell_type": "code",
   "execution_count": 19,
   "metadata": {},
   "outputs": [],
   "source": [
    "# drop SN column to be able to average the total purchase price per person by gender\n",
    "Dropped_SN = Total_per_Person_df.drop(columns=\"SN\")"
   ]
  },
  {
   "cell_type": "code",
   "execution_count": 20,
   "metadata": {},
   "outputs": [],
   "source": [
    "# calculate for the average total purchase price\n",
    "Average_by_Gender = Dropped_SN.groupby(\"Gender\")\n",
    "ByPerson_ByGender_Average = pd.DataFrame(Average_by_Gender[\"Price\"].mean())\n",
    "ByPerson_ByGender_Average = ByPerson_ByGender_Average.reset_index(drop=False) "
   ]
  },
  {
   "cell_type": "code",
   "execution_count": 21,
   "metadata": {},
   "outputs": [],
   "source": [
    "# rename the column label correspondingly\n",
    "ByPerson_ByGender_Average = ByPerson_ByGender_Average.rename(columns={\"Price\":\"Avg Total Purchase per Person\"})"
   ]
  },
  {
   "cell_type": "code",
   "execution_count": 22,
   "metadata": {},
   "outputs": [],
   "source": [
    "# merge ByPerson_ByGender_Average and By_Gender_df on Gender column \n",
    "Gender_Summary_df = pd.merge(By_Gender_df,ByPerson_ByGender_Average, on=\"Gender\")"
   ]
  },
  {
   "cell_type": "code",
   "execution_count": 23,
   "metadata": {},
   "outputs": [],
   "source": [
    "# set Gender as index\n",
    "Gender_Summary_df = Gender_Summary_df.set_index(\"Gender\")"
   ]
  },
  {
   "cell_type": "code",
   "execution_count": 24,
   "metadata": {},
   "outputs": [],
   "source": [
    "# format currency-type values\n",
    "Gender_Summary_df[\"Average Purchase Price\"] = Gender_Summary_df[\"Average Purchase Price\"].map(\"${:,.2f}\".format)\n",
    "Gender_Summary_df[\"Total Purchase Value\"] = Gender_Summary_df[\"Total Purchase Value\"].map(\"${:,.2f}\".format)\n",
    "Gender_Summary_df[\"Avg Total Purchase per Person\"] = Gender_Summary_df[\"Avg Total Purchase per Person\"].map(\"${:,.2f}\".format)"
   ]
  },
  {
   "cell_type": "code",
   "execution_count": 25,
   "metadata": {},
   "outputs": [
    {
     "data": {
      "text/html": [
       "<style  type=\"text/css\" >\n",
       "    #T_89138bf0_c473_11ea_a3c6_b0c0909a9ff8row0_col0 {\n",
       "            text-align:  left;\n",
       "        }    #T_89138bf0_c473_11ea_a3c6_b0c0909a9ff8row0_col1 {\n",
       "            text-align:  left;\n",
       "        }    #T_89138bf0_c473_11ea_a3c6_b0c0909a9ff8row0_col2 {\n",
       "            text-align:  left;\n",
       "        }    #T_89138bf0_c473_11ea_a3c6_b0c0909a9ff8row0_col3 {\n",
       "            text-align:  left;\n",
       "        }    #T_89138bf0_c473_11ea_a3c6_b0c0909a9ff8row1_col0 {\n",
       "            text-align:  left;\n",
       "        }    #T_89138bf0_c473_11ea_a3c6_b0c0909a9ff8row1_col1 {\n",
       "            text-align:  left;\n",
       "        }    #T_89138bf0_c473_11ea_a3c6_b0c0909a9ff8row1_col2 {\n",
       "            text-align:  left;\n",
       "        }    #T_89138bf0_c473_11ea_a3c6_b0c0909a9ff8row1_col3 {\n",
       "            text-align:  left;\n",
       "        }    #T_89138bf0_c473_11ea_a3c6_b0c0909a9ff8row2_col0 {\n",
       "            text-align:  left;\n",
       "        }    #T_89138bf0_c473_11ea_a3c6_b0c0909a9ff8row2_col1 {\n",
       "            text-align:  left;\n",
       "        }    #T_89138bf0_c473_11ea_a3c6_b0c0909a9ff8row2_col2 {\n",
       "            text-align:  left;\n",
       "        }    #T_89138bf0_c473_11ea_a3c6_b0c0909a9ff8row2_col3 {\n",
       "            text-align:  left;\n",
       "        }</style><table id=\"T_89138bf0_c473_11ea_a3c6_b0c0909a9ff8\" ><thead>    <tr>        <th class=\"blank level0\" ></th>        <th class=\"col_heading level0 col0\" >Purchase Count</th>        <th class=\"col_heading level0 col1\" >Average Purchase Price</th>        <th class=\"col_heading level0 col2\" >Total Purchase Value</th>        <th class=\"col_heading level0 col3\" >Avg Total Purchase per Person</th>    </tr>    <tr>        <th class=\"index_name level0\" >Gender</th>        <th class=\"blank\" ></th>        <th class=\"blank\" ></th>        <th class=\"blank\" ></th>        <th class=\"blank\" ></th>    </tr></thead><tbody>\n",
       "                <tr>\n",
       "                        <th id=\"T_89138bf0_c473_11ea_a3c6_b0c0909a9ff8level0_row0\" class=\"row_heading level0 row0\" >Female</th>\n",
       "                        <td id=\"T_89138bf0_c473_11ea_a3c6_b0c0909a9ff8row0_col0\" class=\"data row0 col0\" >113</td>\n",
       "                        <td id=\"T_89138bf0_c473_11ea_a3c6_b0c0909a9ff8row0_col1\" class=\"data row0 col1\" >$3.20</td>\n",
       "                        <td id=\"T_89138bf0_c473_11ea_a3c6_b0c0909a9ff8row0_col2\" class=\"data row0 col2\" >$361.94</td>\n",
       "                        <td id=\"T_89138bf0_c473_11ea_a3c6_b0c0909a9ff8row0_col3\" class=\"data row0 col3\" >$4.47</td>\n",
       "            </tr>\n",
       "            <tr>\n",
       "                        <th id=\"T_89138bf0_c473_11ea_a3c6_b0c0909a9ff8level0_row1\" class=\"row_heading level0 row1\" >Male</th>\n",
       "                        <td id=\"T_89138bf0_c473_11ea_a3c6_b0c0909a9ff8row1_col0\" class=\"data row1 col0\" >652</td>\n",
       "                        <td id=\"T_89138bf0_c473_11ea_a3c6_b0c0909a9ff8row1_col1\" class=\"data row1 col1\" >$3.02</td>\n",
       "                        <td id=\"T_89138bf0_c473_11ea_a3c6_b0c0909a9ff8row1_col2\" class=\"data row1 col2\" >$1,967.64</td>\n",
       "                        <td id=\"T_89138bf0_c473_11ea_a3c6_b0c0909a9ff8row1_col3\" class=\"data row1 col3\" >$4.07</td>\n",
       "            </tr>\n",
       "            <tr>\n",
       "                        <th id=\"T_89138bf0_c473_11ea_a3c6_b0c0909a9ff8level0_row2\" class=\"row_heading level0 row2\" >Other / Non-Disclosed</th>\n",
       "                        <td id=\"T_89138bf0_c473_11ea_a3c6_b0c0909a9ff8row2_col0\" class=\"data row2 col0\" >15</td>\n",
       "                        <td id=\"T_89138bf0_c473_11ea_a3c6_b0c0909a9ff8row2_col1\" class=\"data row2 col1\" >$3.35</td>\n",
       "                        <td id=\"T_89138bf0_c473_11ea_a3c6_b0c0909a9ff8row2_col2\" class=\"data row2 col2\" >$50.19</td>\n",
       "                        <td id=\"T_89138bf0_c473_11ea_a3c6_b0c0909a9ff8row2_col3\" class=\"data row2 col3\" >$4.56</td>\n",
       "            </tr>\n",
       "    </tbody></table>"
      ],
      "text/plain": [
       "<pandas.io.formats.style.Styler at 0x1dbf933c988>"
      ]
     },
     "execution_count": 25,
     "metadata": {},
     "output_type": "execute_result"
    }
   ],
   "source": [
    "# set column values to be left-justified\n",
    "Gender_Summary_df = Gender_Summary_df.style.set_properties(**{'text-align': 'left'})\n",
    "Gender_Summary_df"
   ]
  },
  {
   "cell_type": "markdown",
   "metadata": {},
   "source": [
    "## Age Demographics"
   ]
  },
  {
   "cell_type": "markdown",
   "metadata": {},
   "source": [
    "* Establish bins for ages\n",
    "\n",
    "\n",
    "* Categorize the existing players using the age bins. Hint: use pd.cut()\n",
    "\n",
    "\n",
    "* Calculate the numbers and percentages by age group\n",
    "\n",
    "\n",
    "* Create a summary data frame to hold the results\n",
    "\n",
    "\n",
    "* Optional: round the percentage column to two decimal points\n",
    "\n",
    "\n",
    "* Display Age Demographics Table"
   ]
  },
  {
   "cell_type": "code",
   "execution_count": 26,
   "metadata": {},
   "outputs": [],
   "source": [
    "# create a dataframe from the main data keeping only SN and Age columns\n",
    "Unique_Players_With_Age_df = purchase_data[[\"SN\",\"Age\"]]\n",
    "# drop duplicates to obtain unique players\n",
    "Unique_Players_With_Age_df = Unique_Players_With_Age_df.drop_duplicates(keep='last')"
   ]
  },
  {
   "cell_type": "code",
   "execution_count": 27,
   "metadata": {},
   "outputs": [],
   "source": [
    "# calculate the number of players by age and store into a new dataframe\n",
    "Players_df = pd.DataFrame(Unique_Players_With_Age_df[\"Age\"].value_counts())\n",
    "Players_df = Players_df.reset_index(drop=False) "
   ]
  },
  {
   "cell_type": "code",
   "execution_count": 28,
   "metadata": {},
   "outputs": [],
   "source": [
    "# rename columns accordingly\n",
    "Players_df = Players_df.rename(columns={\"index\":\"Age\",\"Age\":\"Total Count\"})"
   ]
  },
  {
   "cell_type": "code",
   "execution_count": 29,
   "metadata": {},
   "outputs": [],
   "source": [
    "# create bins for player ages and corresponding age group labels\n",
    "bins = [0, 9, 14, 19, 24, 29, 34, 39, np.inf]\n",
    "age_groups = [\" <10\", \"10-14\", \"15-19\", \"20-24\", \"25-29\", \"30-34\", \"35-39\", \"40+\"]"
   ]
  },
  {
   "cell_type": "code",
   "execution_count": 30,
   "metadata": {
    "scrolled": true
   },
   "outputs": [],
   "source": [
    "# add a new column to categorize players' ages\n",
    "Players_df[\"Age Category\"] = pd.DataFrame(pd.cut(Players_df[\"Age\"], bins, labels=age_groups, include_lowest=True))"
   ]
  },
  {
   "cell_type": "code",
   "execution_count": 31,
   "metadata": {},
   "outputs": [],
   "source": [
    "# sort data by age to make the Age Category column sort accordingly\n",
    "Players_df = Players_df.sort_values([\"Age\"])\n",
    "Players_df = Players_df.reset_index(drop=True)"
   ]
  },
  {
   "cell_type": "code",
   "execution_count": 32,
   "metadata": {},
   "outputs": [],
   "source": [
    "# calculate for the sum of Total Count per Age Category\n",
    "Age_Category = Players_df.groupby([\"Age Category\"])\n",
    "Age_Category_df = pd.DataFrame(Age_Category[\"Total Count\"].sum())\n",
    "Age_Category_df.index.name = None"
   ]
  },
  {
   "cell_type": "code",
   "execution_count": 33,
   "metadata": {},
   "outputs": [],
   "source": [
    "# calculate for the percentage and add to the existing dataframe\n",
    "Age_Category_df[\"Percentage of Players\"] = (Age_Category_df[\"Total Count\"]/Players_df[\"Total Count\"].sum()*100)"
   ]
  },
  {
   "cell_type": "code",
   "execution_count": 34,
   "metadata": {},
   "outputs": [],
   "source": [
    "# format the percent column values into percentage format\n",
    "Age_Category_df[\"Percentage of Players\"] = Age_Category_df[\"Percentage of Players\"].map(\"{:.2f}%\".format)"
   ]
  },
  {
   "cell_type": "code",
   "execution_count": 35,
   "metadata": {
    "scrolled": true
   },
   "outputs": [
    {
     "data": {
      "text/html": [
       "<style  type=\"text/css\" >\n",
       "    #T_8a3b1106_c473_11ea_9549_b0c0909a9ff8row0_col0 {\n",
       "            text-align:  left;\n",
       "        }    #T_8a3b1106_c473_11ea_9549_b0c0909a9ff8row0_col1 {\n",
       "            text-align:  left;\n",
       "        }    #T_8a3b1106_c473_11ea_9549_b0c0909a9ff8row1_col0 {\n",
       "            text-align:  left;\n",
       "        }    #T_8a3b1106_c473_11ea_9549_b0c0909a9ff8row1_col1 {\n",
       "            text-align:  left;\n",
       "        }    #T_8a3b1106_c473_11ea_9549_b0c0909a9ff8row2_col0 {\n",
       "            text-align:  left;\n",
       "        }    #T_8a3b1106_c473_11ea_9549_b0c0909a9ff8row2_col1 {\n",
       "            text-align:  left;\n",
       "        }    #T_8a3b1106_c473_11ea_9549_b0c0909a9ff8row3_col0 {\n",
       "            text-align:  left;\n",
       "        }    #T_8a3b1106_c473_11ea_9549_b0c0909a9ff8row3_col1 {\n",
       "            text-align:  left;\n",
       "        }    #T_8a3b1106_c473_11ea_9549_b0c0909a9ff8row4_col0 {\n",
       "            text-align:  left;\n",
       "        }    #T_8a3b1106_c473_11ea_9549_b0c0909a9ff8row4_col1 {\n",
       "            text-align:  left;\n",
       "        }    #T_8a3b1106_c473_11ea_9549_b0c0909a9ff8row5_col0 {\n",
       "            text-align:  left;\n",
       "        }    #T_8a3b1106_c473_11ea_9549_b0c0909a9ff8row5_col1 {\n",
       "            text-align:  left;\n",
       "        }    #T_8a3b1106_c473_11ea_9549_b0c0909a9ff8row6_col0 {\n",
       "            text-align:  left;\n",
       "        }    #T_8a3b1106_c473_11ea_9549_b0c0909a9ff8row6_col1 {\n",
       "            text-align:  left;\n",
       "        }    #T_8a3b1106_c473_11ea_9549_b0c0909a9ff8row7_col0 {\n",
       "            text-align:  left;\n",
       "        }    #T_8a3b1106_c473_11ea_9549_b0c0909a9ff8row7_col1 {\n",
       "            text-align:  left;\n",
       "        }</style><table id=\"T_8a3b1106_c473_11ea_9549_b0c0909a9ff8\" ><thead>    <tr>        <th class=\"blank level0\" ></th>        <th class=\"col_heading level0 col0\" >Total Count</th>        <th class=\"col_heading level0 col1\" >Percentage of Players</th>    </tr></thead><tbody>\n",
       "                <tr>\n",
       "                        <th id=\"T_8a3b1106_c473_11ea_9549_b0c0909a9ff8level0_row0\" class=\"row_heading level0 row0\" > <10</th>\n",
       "                        <td id=\"T_8a3b1106_c473_11ea_9549_b0c0909a9ff8row0_col0\" class=\"data row0 col0\" >17</td>\n",
       "                        <td id=\"T_8a3b1106_c473_11ea_9549_b0c0909a9ff8row0_col1\" class=\"data row0 col1\" >2.95%</td>\n",
       "            </tr>\n",
       "            <tr>\n",
       "                        <th id=\"T_8a3b1106_c473_11ea_9549_b0c0909a9ff8level0_row1\" class=\"row_heading level0 row1\" >10-14</th>\n",
       "                        <td id=\"T_8a3b1106_c473_11ea_9549_b0c0909a9ff8row1_col0\" class=\"data row1 col0\" >22</td>\n",
       "                        <td id=\"T_8a3b1106_c473_11ea_9549_b0c0909a9ff8row1_col1\" class=\"data row1 col1\" >3.82%</td>\n",
       "            </tr>\n",
       "            <tr>\n",
       "                        <th id=\"T_8a3b1106_c473_11ea_9549_b0c0909a9ff8level0_row2\" class=\"row_heading level0 row2\" >15-19</th>\n",
       "                        <td id=\"T_8a3b1106_c473_11ea_9549_b0c0909a9ff8row2_col0\" class=\"data row2 col0\" >107</td>\n",
       "                        <td id=\"T_8a3b1106_c473_11ea_9549_b0c0909a9ff8row2_col1\" class=\"data row2 col1\" >18.58%</td>\n",
       "            </tr>\n",
       "            <tr>\n",
       "                        <th id=\"T_8a3b1106_c473_11ea_9549_b0c0909a9ff8level0_row3\" class=\"row_heading level0 row3\" >20-24</th>\n",
       "                        <td id=\"T_8a3b1106_c473_11ea_9549_b0c0909a9ff8row3_col0\" class=\"data row3 col0\" >258</td>\n",
       "                        <td id=\"T_8a3b1106_c473_11ea_9549_b0c0909a9ff8row3_col1\" class=\"data row3 col1\" >44.79%</td>\n",
       "            </tr>\n",
       "            <tr>\n",
       "                        <th id=\"T_8a3b1106_c473_11ea_9549_b0c0909a9ff8level0_row4\" class=\"row_heading level0 row4\" >25-29</th>\n",
       "                        <td id=\"T_8a3b1106_c473_11ea_9549_b0c0909a9ff8row4_col0\" class=\"data row4 col0\" >77</td>\n",
       "                        <td id=\"T_8a3b1106_c473_11ea_9549_b0c0909a9ff8row4_col1\" class=\"data row4 col1\" >13.37%</td>\n",
       "            </tr>\n",
       "            <tr>\n",
       "                        <th id=\"T_8a3b1106_c473_11ea_9549_b0c0909a9ff8level0_row5\" class=\"row_heading level0 row5\" >30-34</th>\n",
       "                        <td id=\"T_8a3b1106_c473_11ea_9549_b0c0909a9ff8row5_col0\" class=\"data row5 col0\" >52</td>\n",
       "                        <td id=\"T_8a3b1106_c473_11ea_9549_b0c0909a9ff8row5_col1\" class=\"data row5 col1\" >9.03%</td>\n",
       "            </tr>\n",
       "            <tr>\n",
       "                        <th id=\"T_8a3b1106_c473_11ea_9549_b0c0909a9ff8level0_row6\" class=\"row_heading level0 row6\" >35-39</th>\n",
       "                        <td id=\"T_8a3b1106_c473_11ea_9549_b0c0909a9ff8row6_col0\" class=\"data row6 col0\" >31</td>\n",
       "                        <td id=\"T_8a3b1106_c473_11ea_9549_b0c0909a9ff8row6_col1\" class=\"data row6 col1\" >5.38%</td>\n",
       "            </tr>\n",
       "            <tr>\n",
       "                        <th id=\"T_8a3b1106_c473_11ea_9549_b0c0909a9ff8level0_row7\" class=\"row_heading level0 row7\" >40+</th>\n",
       "                        <td id=\"T_8a3b1106_c473_11ea_9549_b0c0909a9ff8row7_col0\" class=\"data row7 col0\" >12</td>\n",
       "                        <td id=\"T_8a3b1106_c473_11ea_9549_b0c0909a9ff8row7_col1\" class=\"data row7 col1\" >2.08%</td>\n",
       "            </tr>\n",
       "    </tbody></table>"
      ],
      "text/plain": [
       "<pandas.io.formats.style.Styler at 0x1dbf93fae08>"
      ]
     },
     "execution_count": 35,
     "metadata": {},
     "output_type": "execute_result"
    }
   ],
   "source": [
    "# format column values as left-justified\n",
    "Age_Category_df = Age_Category_df.style.set_properties(**{'text-align': 'left'})\n",
    "Age_Category_df"
   ]
  },
  {
   "cell_type": "markdown",
   "metadata": {},
   "source": [
    "## Purchasing Analysis (Age)"
   ]
  },
  {
   "cell_type": "markdown",
   "metadata": {},
   "source": [
    "* Bin the purchase_data data frame by age\n",
    "\n",
    "\n",
    "* Run basic calculations to obtain purchase count, avg. purchase price, avg. purchase total per person etc. in the table below\n",
    "\n",
    "\n",
    "* Create a summary data frame to hold the results\n",
    "\n",
    "\n",
    "* Optional: give the displayed data cleaner formatting\n",
    "\n",
    "\n",
    "* Display the summary data frame"
   ]
  },
  {
   "cell_type": "code",
   "execution_count": 36,
   "metadata": {
    "scrolled": true
   },
   "outputs": [],
   "source": [
    "# create a dataframe with SN, Age & Price columns\n",
    "Player_Purchases_df = purchase_data[[\"SN\",\"Age\",\"Price\"]]"
   ]
  },
  {
   "cell_type": "code",
   "execution_count": 37,
   "metadata": {},
   "outputs": [],
   "source": [
    "# START of PURCHASE COUNT column computation\n",
    "\n",
    "# calculate the total number of purchases per Age and store into a new dataframe\n",
    "Player_Purchase_Count_df = pd.DataFrame(Player_Purchases_df[\"Age\"].value_counts())\n",
    "Player_Purchase_Count_df = Player_Purchase_Count_df.reset_index(drop=False)"
   ]
  },
  {
   "cell_type": "code",
   "execution_count": 38,
   "metadata": {},
   "outputs": [],
   "source": [
    "# rename the columns accordingly\n",
    "Player_Purchase_Count_df = Player_Purchase_Count_df.rename(columns={\"index\":\"Age\",\"Age\":\"Total Count\"})"
   ]
  },
  {
   "cell_type": "code",
   "execution_count": 39,
   "metadata": {},
   "outputs": [],
   "source": [
    "# use existing bins to categorize by age\n",
    "Player_Purchase_Count_df[\"Age Category\"] = pd.cut(Player_Purchase_Count_df[\"Age\"], bins, labels=age_groups, include_lowest=True)"
   ]
  },
  {
   "cell_type": "code",
   "execution_count": 40,
   "metadata": {},
   "outputs": [],
   "source": [
    "# drop Age column\n",
    "Player_Purchase_Count_df = Player_Purchase_Count_df.drop(columns=\"Age\")"
   ]
  },
  {
   "cell_type": "code",
   "execution_count": 41,
   "metadata": {},
   "outputs": [],
   "source": [
    "# calculate the total number of purchases per Age Category\n",
    "Player_Purchase_Total_Ct = Player_Purchase_Count_df.groupby([\"Age Category\"])\n",
    "Player_Purchase_Total_Ct_df = pd.DataFrame(Player_Purchase_Total_Ct[\"Total Count\"].sum())\n",
    "\n",
    "# END of PURCHASE COUNT column computation"
   ]
  },
  {
   "cell_type": "code",
   "execution_count": 42,
   "metadata": {},
   "outputs": [],
   "source": [
    "# START of AVERAGE PURCHASE PRICE column computation\n",
    "\n",
    "# create a dataframe with Age and Price columns\n",
    "By_Age_Average_df = Player_Purchases_df.loc[:,[\"Age\", \"Price\"]]"
   ]
  },
  {
   "cell_type": "code",
   "execution_count": 43,
   "metadata": {},
   "outputs": [],
   "source": [
    "# use existing bins to categorize by age\n",
    "By_Age_Average_df[\"Age Category\"] = pd.DataFrame(pd.cut(By_Age_Average_df[\"Age\"], bins, labels=age_groups, include_lowest=True))"
   ]
  },
  {
   "cell_type": "code",
   "execution_count": 44,
   "metadata": {},
   "outputs": [],
   "source": [
    "# drop Age column\n",
    "By_Age_Average_df = By_Age_Average_df.drop(columns=\"Age\")"
   ]
  },
  {
   "cell_type": "code",
   "execution_count": 45,
   "metadata": {},
   "outputs": [],
   "source": [
    "# calculate for the average purchase per Age Category\n",
    "By_Age_Summary = By_Age_Average_df.groupby([\"Age Category\"])\n",
    "By_Age_Summary_df = pd.DataFrame(By_Age_Summary[\"Price\"].mean())\n",
    "By_Age_Summary_df = By_Age_Summary_df.reset_index(drop=False)\n",
    "\n",
    "# END of AVERAGE PURCHASE PRICE column computation"
   ]
  },
  {
   "cell_type": "code",
   "execution_count": 46,
   "metadata": {},
   "outputs": [],
   "source": [
    "# START of TOTAL PURCHASE PRICE column computation\n",
    "\n",
    "# calculate for the total purchase price by Age\n",
    "By_Age_Purchase = Player_Purchases_df.groupby([\"Age\"])\n",
    "By_Age_Sum_df = pd.DataFrame(By_Age_Purchase[\"Price\"].sum())\n",
    "By_Age_Sum_df = By_Age_Sum_df.reset_index(drop=False)"
   ]
  },
  {
   "cell_type": "code",
   "execution_count": 47,
   "metadata": {},
   "outputs": [],
   "source": [
    "# use existing bins to categorize by age\n",
    "By_Age_Sum_df[\"Age Category\"] = pd.DataFrame(pd.cut(By_Age_Sum_df[\"Age\"], bins, labels=age_groups, include_lowest=True))"
   ]
  },
  {
   "cell_type": "code",
   "execution_count": 48,
   "metadata": {},
   "outputs": [],
   "source": [
    "# drop the Age column\n",
    "By_Age_Sum_df = By_Age_Sum_df.drop(columns=\"Age\")"
   ]
  },
  {
   "cell_type": "code",
   "execution_count": 49,
   "metadata": {},
   "outputs": [],
   "source": [
    "# calculate for the total purchase price by Age Category\n",
    "By_Age = By_Age_Sum_df.groupby([\"Age Category\"])\n",
    "By_Age_Category_Total_df = pd.DataFrame(By_Age[\"Price\"].sum())\n",
    "By_Age_Category_Total_df = By_Age_Category_Total_df.reset_index(drop=False)\n",
    "\n",
    "# END of TOTAL PURCHASE PRICE column computation"
   ]
  },
  {
   "cell_type": "code",
   "execution_count": 50,
   "metadata": {},
   "outputs": [],
   "source": [
    "# START of AVERAGE TOTAL PURCHASE PER PERSON column computation\n",
    "\n",
    "# calculate for the total purchase per player\n",
    "Per_Player_Average = Player_Purchases_df.groupby([\"SN\"])\n",
    "Per_Player_Average_df = pd.DataFrame(Per_Player_Average[\"Price\"].sum())\n",
    "Per_Player_Average_df = Per_Player_Average_df.reset_index(drop=False)"
   ]
  },
  {
   "cell_type": "code",
   "execution_count": 51,
   "metadata": {},
   "outputs": [],
   "source": [
    "# rename columns accordingly\n",
    "Per_Player_Average_df = Per_Player_Average_df.rename(columns={\"Price\":\"Total per Player\"})"
   ]
  },
  {
   "cell_type": "code",
   "execution_count": 52,
   "metadata": {},
   "outputs": [],
   "source": [
    "# create a new dataframe containing unique player names and age\n",
    "Player_Age_df = purchase_data[[\"SN\",\"Age\"]]\n",
    "Player_Age_df = Player_Age_df.drop_duplicates(keep='last')"
   ]
  },
  {
   "cell_type": "code",
   "execution_count": 53,
   "metadata": {},
   "outputs": [],
   "source": [
    "# merge Per_Player_Average_df and Player_Age_df to obtain the age for categorization\n",
    "Average_By_Age_df = pd.merge(Per_Player_Average_df,Player_Age_df,on=\"SN\")"
   ]
  },
  {
   "cell_type": "code",
   "execution_count": 54,
   "metadata": {},
   "outputs": [],
   "source": [
    "# drop the SN column\n",
    "Average_By_Age_df = Average_By_Age_df.drop(columns=\"SN\")"
   ]
  },
  {
   "cell_type": "code",
   "execution_count": 55,
   "metadata": {},
   "outputs": [],
   "source": [
    "# use existing bins to categorize by age\n",
    "Average_By_Age_df[\"Age Category\"] = pd.cut(Average_By_Age_df[\"Age\"], bins, labels=age_groups, include_lowest=True)"
   ]
  },
  {
   "cell_type": "code",
   "execution_count": 56,
   "metadata": {},
   "outputs": [
    {
     "data": {
      "text/html": [
       "<div>\n",
       "<style scoped>\n",
       "    .dataframe tbody tr th:only-of-type {\n",
       "        vertical-align: middle;\n",
       "    }\n",
       "\n",
       "    .dataframe tbody tr th {\n",
       "        vertical-align: top;\n",
       "    }\n",
       "\n",
       "    .dataframe thead th {\n",
       "        text-align: right;\n",
       "    }\n",
       "</style>\n",
       "<table border=\"1\" class=\"dataframe\">\n",
       "  <thead>\n",
       "    <tr style=\"text-align: right;\">\n",
       "      <th></th>\n",
       "      <th>Age Category</th>\n",
       "      <th>Total per Player</th>\n",
       "    </tr>\n",
       "  </thead>\n",
       "  <tbody>\n",
       "    <tr>\n",
       "      <th>0</th>\n",
       "      <td>&lt;10</td>\n",
       "      <td>4.537059</td>\n",
       "    </tr>\n",
       "    <tr>\n",
       "      <th>1</th>\n",
       "      <td>10-14</td>\n",
       "      <td>3.762727</td>\n",
       "    </tr>\n",
       "    <tr>\n",
       "      <th>2</th>\n",
       "      <td>15-19</td>\n",
       "      <td>3.858785</td>\n",
       "    </tr>\n",
       "    <tr>\n",
       "      <th>3</th>\n",
       "      <td>20-24</td>\n",
       "      <td>4.318062</td>\n",
       "    </tr>\n",
       "    <tr>\n",
       "      <th>4</th>\n",
       "      <td>25-29</td>\n",
       "      <td>3.805195</td>\n",
       "    </tr>\n",
       "    <tr>\n",
       "      <th>5</th>\n",
       "      <td>30-34</td>\n",
       "      <td>4.115385</td>\n",
       "    </tr>\n",
       "    <tr>\n",
       "      <th>6</th>\n",
       "      <td>35-39</td>\n",
       "      <td>4.763548</td>\n",
       "    </tr>\n",
       "    <tr>\n",
       "      <th>7</th>\n",
       "      <td>40+</td>\n",
       "      <td>3.186667</td>\n",
       "    </tr>\n",
       "  </tbody>\n",
       "</table>\n",
       "</div>"
      ],
      "text/plain": [
       "  Age Category  Total per Player\n",
       "0          <10          4.537059\n",
       "1        10-14          3.762727\n",
       "2        15-19          3.858785\n",
       "3        20-24          4.318062\n",
       "4        25-29          3.805195\n",
       "5        30-34          4.115385\n",
       "6        35-39          4.763548\n",
       "7          40+          3.186667"
      ]
     },
     "execution_count": 56,
     "metadata": {},
     "output_type": "execute_result"
    }
   ],
   "source": [
    "# calculate for the average per Age Category\n",
    "Average_By_Age = Average_By_Age_df.groupby([\"Age Category\"])\n",
    "Average_By_Age_df = pd.DataFrame(Average_By_Age[\"Total per Player\"].mean())\n",
    "Average_By_Age_df = Average_By_Age_df.reset_index(drop=False)\n",
    "Average_By_Age_df\n",
    "\n",
    "# END of AVERAGE TOTAL PURCHASE PER PERSON column computation"
   ]
  },
  {
   "cell_type": "code",
   "execution_count": 57,
   "metadata": {},
   "outputs": [],
   "source": [
    "# merge the data frames for analysis summary \n",
    "Merge_Col1_Col2_df = pd.merge(Player_Purchase_Total_Ct_df,By_Age_Summary_df,on=\"Age Category\")\n",
    "Merge_Col3_Col4_df = pd.merge(By_Age_Category_Total_df,Average_By_Age_df,on=\"Age Category\")\n",
    "Puchasing_Analysis_df = pd.merge(Merge_Col1_Col2_df,Merge_Col3_Col4_df,on=\"Age Category\")"
   ]
  },
  {
   "cell_type": "code",
   "execution_count": 58,
   "metadata": {},
   "outputs": [],
   "source": [
    "# rename summary column headers accordingly\n",
    "Puchasing_Analysis_df = Puchasing_Analysis_df.rename(columns={\"Age Category\":\"Age Ranges\",\n",
    "                                                              \"Total Count\":\"Purchase Count\",\n",
    "                                                              \"Price_x\":\"Average Purchase Price\",\n",
    "                                                              \"Price_y\":\"Total Purchase Value\",\n",
    "                                                              \"Total per Player\":\"Avg Total Purchase per Person\"})"
   ]
  },
  {
   "cell_type": "code",
   "execution_count": 59,
   "metadata": {},
   "outputs": [],
   "source": [
    "# set Age Ranges as index\n",
    "Puchasing_Analysis_df = Puchasing_Analysis_df.set_index(\"Age Ranges\")"
   ]
  },
  {
   "cell_type": "code",
   "execution_count": 60,
   "metadata": {},
   "outputs": [],
   "source": [
    "# using map function, format numeric values into currency for analysis reporting\n",
    "Puchasing_Analysis_df[\"Average Purchase Price\"] = Puchasing_Analysis_df[\"Average Purchase Price\"].map(\"${:,.2f}\".format)\n",
    "Puchasing_Analysis_df[\"Total Purchase Value\"] = Puchasing_Analysis_df[\"Total Purchase Value\"].map(\"${:,.2f}\".format)\n",
    "Puchasing_Analysis_df[\"Avg Total Purchase per Person\"] = Puchasing_Analysis_df[\"Avg Total Purchase per Person\"].map(\"${:,.2f}\".format)"
   ]
  },
  {
   "cell_type": "code",
   "execution_count": 61,
   "metadata": {},
   "outputs": [
    {
     "data": {
      "text/html": [
       "<style  type=\"text/css\" >\n",
       "    #T_8cdcd0c8_c473_11ea_aba6_b0c0909a9ff8row0_col0 {\n",
       "            text-align:  left;\n",
       "        }    #T_8cdcd0c8_c473_11ea_aba6_b0c0909a9ff8row0_col1 {\n",
       "            text-align:  left;\n",
       "        }    #T_8cdcd0c8_c473_11ea_aba6_b0c0909a9ff8row0_col2 {\n",
       "            text-align:  left;\n",
       "        }    #T_8cdcd0c8_c473_11ea_aba6_b0c0909a9ff8row0_col3 {\n",
       "            text-align:  left;\n",
       "        }    #T_8cdcd0c8_c473_11ea_aba6_b0c0909a9ff8row1_col0 {\n",
       "            text-align:  left;\n",
       "        }    #T_8cdcd0c8_c473_11ea_aba6_b0c0909a9ff8row1_col1 {\n",
       "            text-align:  left;\n",
       "        }    #T_8cdcd0c8_c473_11ea_aba6_b0c0909a9ff8row1_col2 {\n",
       "            text-align:  left;\n",
       "        }    #T_8cdcd0c8_c473_11ea_aba6_b0c0909a9ff8row1_col3 {\n",
       "            text-align:  left;\n",
       "        }    #T_8cdcd0c8_c473_11ea_aba6_b0c0909a9ff8row2_col0 {\n",
       "            text-align:  left;\n",
       "        }    #T_8cdcd0c8_c473_11ea_aba6_b0c0909a9ff8row2_col1 {\n",
       "            text-align:  left;\n",
       "        }    #T_8cdcd0c8_c473_11ea_aba6_b0c0909a9ff8row2_col2 {\n",
       "            text-align:  left;\n",
       "        }    #T_8cdcd0c8_c473_11ea_aba6_b0c0909a9ff8row2_col3 {\n",
       "            text-align:  left;\n",
       "        }    #T_8cdcd0c8_c473_11ea_aba6_b0c0909a9ff8row3_col0 {\n",
       "            text-align:  left;\n",
       "        }    #T_8cdcd0c8_c473_11ea_aba6_b0c0909a9ff8row3_col1 {\n",
       "            text-align:  left;\n",
       "        }    #T_8cdcd0c8_c473_11ea_aba6_b0c0909a9ff8row3_col2 {\n",
       "            text-align:  left;\n",
       "        }    #T_8cdcd0c8_c473_11ea_aba6_b0c0909a9ff8row3_col3 {\n",
       "            text-align:  left;\n",
       "        }    #T_8cdcd0c8_c473_11ea_aba6_b0c0909a9ff8row4_col0 {\n",
       "            text-align:  left;\n",
       "        }    #T_8cdcd0c8_c473_11ea_aba6_b0c0909a9ff8row4_col1 {\n",
       "            text-align:  left;\n",
       "        }    #T_8cdcd0c8_c473_11ea_aba6_b0c0909a9ff8row4_col2 {\n",
       "            text-align:  left;\n",
       "        }    #T_8cdcd0c8_c473_11ea_aba6_b0c0909a9ff8row4_col3 {\n",
       "            text-align:  left;\n",
       "        }    #T_8cdcd0c8_c473_11ea_aba6_b0c0909a9ff8row5_col0 {\n",
       "            text-align:  left;\n",
       "        }    #T_8cdcd0c8_c473_11ea_aba6_b0c0909a9ff8row5_col1 {\n",
       "            text-align:  left;\n",
       "        }    #T_8cdcd0c8_c473_11ea_aba6_b0c0909a9ff8row5_col2 {\n",
       "            text-align:  left;\n",
       "        }    #T_8cdcd0c8_c473_11ea_aba6_b0c0909a9ff8row5_col3 {\n",
       "            text-align:  left;\n",
       "        }    #T_8cdcd0c8_c473_11ea_aba6_b0c0909a9ff8row6_col0 {\n",
       "            text-align:  left;\n",
       "        }    #T_8cdcd0c8_c473_11ea_aba6_b0c0909a9ff8row6_col1 {\n",
       "            text-align:  left;\n",
       "        }    #T_8cdcd0c8_c473_11ea_aba6_b0c0909a9ff8row6_col2 {\n",
       "            text-align:  left;\n",
       "        }    #T_8cdcd0c8_c473_11ea_aba6_b0c0909a9ff8row6_col3 {\n",
       "            text-align:  left;\n",
       "        }    #T_8cdcd0c8_c473_11ea_aba6_b0c0909a9ff8row7_col0 {\n",
       "            text-align:  left;\n",
       "        }    #T_8cdcd0c8_c473_11ea_aba6_b0c0909a9ff8row7_col1 {\n",
       "            text-align:  left;\n",
       "        }    #T_8cdcd0c8_c473_11ea_aba6_b0c0909a9ff8row7_col2 {\n",
       "            text-align:  left;\n",
       "        }    #T_8cdcd0c8_c473_11ea_aba6_b0c0909a9ff8row7_col3 {\n",
       "            text-align:  left;\n",
       "        }</style><table id=\"T_8cdcd0c8_c473_11ea_aba6_b0c0909a9ff8\" ><thead>    <tr>        <th class=\"blank level0\" ></th>        <th class=\"col_heading level0 col0\" >Purchase Count</th>        <th class=\"col_heading level0 col1\" >Average Purchase Price</th>        <th class=\"col_heading level0 col2\" >Total Purchase Value</th>        <th class=\"col_heading level0 col3\" >Avg Total Purchase per Person</th>    </tr>    <tr>        <th class=\"index_name level0\" >Age Ranges</th>        <th class=\"blank\" ></th>        <th class=\"blank\" ></th>        <th class=\"blank\" ></th>        <th class=\"blank\" ></th>    </tr></thead><tbody>\n",
       "                <tr>\n",
       "                        <th id=\"T_8cdcd0c8_c473_11ea_aba6_b0c0909a9ff8level0_row0\" class=\"row_heading level0 row0\" > <10</th>\n",
       "                        <td id=\"T_8cdcd0c8_c473_11ea_aba6_b0c0909a9ff8row0_col0\" class=\"data row0 col0\" >23</td>\n",
       "                        <td id=\"T_8cdcd0c8_c473_11ea_aba6_b0c0909a9ff8row0_col1\" class=\"data row0 col1\" >$3.35</td>\n",
       "                        <td id=\"T_8cdcd0c8_c473_11ea_aba6_b0c0909a9ff8row0_col2\" class=\"data row0 col2\" >$77.13</td>\n",
       "                        <td id=\"T_8cdcd0c8_c473_11ea_aba6_b0c0909a9ff8row0_col3\" class=\"data row0 col3\" >$4.54</td>\n",
       "            </tr>\n",
       "            <tr>\n",
       "                        <th id=\"T_8cdcd0c8_c473_11ea_aba6_b0c0909a9ff8level0_row1\" class=\"row_heading level0 row1\" >10-14</th>\n",
       "                        <td id=\"T_8cdcd0c8_c473_11ea_aba6_b0c0909a9ff8row1_col0\" class=\"data row1 col0\" >28</td>\n",
       "                        <td id=\"T_8cdcd0c8_c473_11ea_aba6_b0c0909a9ff8row1_col1\" class=\"data row1 col1\" >$2.96</td>\n",
       "                        <td id=\"T_8cdcd0c8_c473_11ea_aba6_b0c0909a9ff8row1_col2\" class=\"data row1 col2\" >$82.78</td>\n",
       "                        <td id=\"T_8cdcd0c8_c473_11ea_aba6_b0c0909a9ff8row1_col3\" class=\"data row1 col3\" >$3.76</td>\n",
       "            </tr>\n",
       "            <tr>\n",
       "                        <th id=\"T_8cdcd0c8_c473_11ea_aba6_b0c0909a9ff8level0_row2\" class=\"row_heading level0 row2\" >15-19</th>\n",
       "                        <td id=\"T_8cdcd0c8_c473_11ea_aba6_b0c0909a9ff8row2_col0\" class=\"data row2 col0\" >136</td>\n",
       "                        <td id=\"T_8cdcd0c8_c473_11ea_aba6_b0c0909a9ff8row2_col1\" class=\"data row2 col1\" >$3.04</td>\n",
       "                        <td id=\"T_8cdcd0c8_c473_11ea_aba6_b0c0909a9ff8row2_col2\" class=\"data row2 col2\" >$412.89</td>\n",
       "                        <td id=\"T_8cdcd0c8_c473_11ea_aba6_b0c0909a9ff8row2_col3\" class=\"data row2 col3\" >$3.86</td>\n",
       "            </tr>\n",
       "            <tr>\n",
       "                        <th id=\"T_8cdcd0c8_c473_11ea_aba6_b0c0909a9ff8level0_row3\" class=\"row_heading level0 row3\" >20-24</th>\n",
       "                        <td id=\"T_8cdcd0c8_c473_11ea_aba6_b0c0909a9ff8row3_col0\" class=\"data row3 col0\" >365</td>\n",
       "                        <td id=\"T_8cdcd0c8_c473_11ea_aba6_b0c0909a9ff8row3_col1\" class=\"data row3 col1\" >$3.05</td>\n",
       "                        <td id=\"T_8cdcd0c8_c473_11ea_aba6_b0c0909a9ff8row3_col2\" class=\"data row3 col2\" >$1,114.06</td>\n",
       "                        <td id=\"T_8cdcd0c8_c473_11ea_aba6_b0c0909a9ff8row3_col3\" class=\"data row3 col3\" >$4.32</td>\n",
       "            </tr>\n",
       "            <tr>\n",
       "                        <th id=\"T_8cdcd0c8_c473_11ea_aba6_b0c0909a9ff8level0_row4\" class=\"row_heading level0 row4\" >25-29</th>\n",
       "                        <td id=\"T_8cdcd0c8_c473_11ea_aba6_b0c0909a9ff8row4_col0\" class=\"data row4 col0\" >101</td>\n",
       "                        <td id=\"T_8cdcd0c8_c473_11ea_aba6_b0c0909a9ff8row4_col1\" class=\"data row4 col1\" >$2.90</td>\n",
       "                        <td id=\"T_8cdcd0c8_c473_11ea_aba6_b0c0909a9ff8row4_col2\" class=\"data row4 col2\" >$293.00</td>\n",
       "                        <td id=\"T_8cdcd0c8_c473_11ea_aba6_b0c0909a9ff8row4_col3\" class=\"data row4 col3\" >$3.81</td>\n",
       "            </tr>\n",
       "            <tr>\n",
       "                        <th id=\"T_8cdcd0c8_c473_11ea_aba6_b0c0909a9ff8level0_row5\" class=\"row_heading level0 row5\" >30-34</th>\n",
       "                        <td id=\"T_8cdcd0c8_c473_11ea_aba6_b0c0909a9ff8row5_col0\" class=\"data row5 col0\" >73</td>\n",
       "                        <td id=\"T_8cdcd0c8_c473_11ea_aba6_b0c0909a9ff8row5_col1\" class=\"data row5 col1\" >$2.93</td>\n",
       "                        <td id=\"T_8cdcd0c8_c473_11ea_aba6_b0c0909a9ff8row5_col2\" class=\"data row5 col2\" >$214.00</td>\n",
       "                        <td id=\"T_8cdcd0c8_c473_11ea_aba6_b0c0909a9ff8row5_col3\" class=\"data row5 col3\" >$4.12</td>\n",
       "            </tr>\n",
       "            <tr>\n",
       "                        <th id=\"T_8cdcd0c8_c473_11ea_aba6_b0c0909a9ff8level0_row6\" class=\"row_heading level0 row6\" >35-39</th>\n",
       "                        <td id=\"T_8cdcd0c8_c473_11ea_aba6_b0c0909a9ff8row6_col0\" class=\"data row6 col0\" >41</td>\n",
       "                        <td id=\"T_8cdcd0c8_c473_11ea_aba6_b0c0909a9ff8row6_col1\" class=\"data row6 col1\" >$3.60</td>\n",
       "                        <td id=\"T_8cdcd0c8_c473_11ea_aba6_b0c0909a9ff8row6_col2\" class=\"data row6 col2\" >$147.67</td>\n",
       "                        <td id=\"T_8cdcd0c8_c473_11ea_aba6_b0c0909a9ff8row6_col3\" class=\"data row6 col3\" >$4.76</td>\n",
       "            </tr>\n",
       "            <tr>\n",
       "                        <th id=\"T_8cdcd0c8_c473_11ea_aba6_b0c0909a9ff8level0_row7\" class=\"row_heading level0 row7\" >40+</th>\n",
       "                        <td id=\"T_8cdcd0c8_c473_11ea_aba6_b0c0909a9ff8row7_col0\" class=\"data row7 col0\" >13</td>\n",
       "                        <td id=\"T_8cdcd0c8_c473_11ea_aba6_b0c0909a9ff8row7_col1\" class=\"data row7 col1\" >$2.94</td>\n",
       "                        <td id=\"T_8cdcd0c8_c473_11ea_aba6_b0c0909a9ff8row7_col2\" class=\"data row7 col2\" >$38.24</td>\n",
       "                        <td id=\"T_8cdcd0c8_c473_11ea_aba6_b0c0909a9ff8row7_col3\" class=\"data row7 col3\" >$3.19</td>\n",
       "            </tr>\n",
       "    </tbody></table>"
      ],
      "text/plain": [
       "<pandas.io.formats.style.Styler at 0x1dbf941df08>"
      ]
     },
     "execution_count": 61,
     "metadata": {},
     "output_type": "execute_result"
    }
   ],
   "source": [
    "# format column values as left-justified\n",
    "Puchasing_Analysis_df = Puchasing_Analysis_df.style.set_properties(**{'text-align': 'left'})\n",
    "Puchasing_Analysis_df"
   ]
  },
  {
   "cell_type": "markdown",
   "metadata": {},
   "source": [
    "## Top Spenders"
   ]
  },
  {
   "cell_type": "markdown",
   "metadata": {},
   "source": [
    "* Run basic calculations to obtain the results in the table below\n",
    "\n",
    "\n",
    "* Create a summary data frame to hold the results\n",
    "\n",
    "\n",
    "* Sort the total purchase value column in descending order\n",
    "\n",
    "\n",
    "* Optional: give the displayed data cleaner formatting\n",
    "\n",
    "\n",
    "* Display a preview of the summary data frame\n",
    "\n"
   ]
  },
  {
   "cell_type": "code",
   "execution_count": 62,
   "metadata": {},
   "outputs": [],
   "source": [
    "# create a dataframe with SN & Price columns\n",
    "Top_Player_Purchases_df = purchase_data[[\"SN\",\"Price\"]]"
   ]
  },
  {
   "cell_type": "code",
   "execution_count": 63,
   "metadata": {},
   "outputs": [],
   "source": [
    "# calculate for the total spending by player\n",
    "Top_Spender = Top_Player_Purchases_df.groupby([\"SN\"])\n",
    "Top_Spender_df = pd.DataFrame(Top_Spender[\"Price\"].sum())"
   ]
  },
  {
   "cell_type": "code",
   "execution_count": 64,
   "metadata": {},
   "outputs": [],
   "source": [
    "# calculate the average purchase per player\n",
    "Top_Spender_Ave_df = pd.DataFrame(Top_Spender[\"Price\"].mean())"
   ]
  },
  {
   "cell_type": "code",
   "execution_count": 65,
   "metadata": {},
   "outputs": [],
   "source": [
    "# compute for the total number of purchases per player\n",
    "Top_Spender_Count_df = pd.DataFrame(Top_Spender[\"Price\"].count())\n",
    "Top_Spender_Count_df = Top_Spender_Count_df.sort_values(\"Price\",ascending=False)"
   ]
  },
  {
   "cell_type": "code",
   "execution_count": 66,
   "metadata": {},
   "outputs": [],
   "source": [
    "# merge the 3 dataframes for top spender summary analysis\n",
    "Top_Spender_Details_df = pd.merge(Top_Spender_Count_df,pd.merge(Top_Spender_Ave_df,Top_Spender_df,on=\"SN\"),on=\"SN\")"
   ]
  },
  {
   "cell_type": "code",
   "execution_count": 67,
   "metadata": {},
   "outputs": [],
   "source": [
    "# rename columns accordingly\n",
    "Top_Spender_Details_df = Top_Spender_Details_df.rename(columns={\"Price\":\"Purchase Count\",\n",
    "                                                                \"Price_x\":\"Average Purchase Price\",\n",
    "                                                                \"Price_y\":\"Total Purchase Value\"})"
   ]
  },
  {
   "cell_type": "code",
   "execution_count": 68,
   "metadata": {},
   "outputs": [],
   "source": [
    "# sort spending data by top purchase value in descending order \n",
    "Top_Spender_Details_df = Top_Spender_Details_df.sort_values(\"Total Purchase Value\",ascending=False)\n",
    "# get the top 5 players based on total purchase\n",
    "Top_Spender_Summary_df = Top_Spender_Details_df.iloc[0:5,:]"
   ]
  },
  {
   "cell_type": "code",
   "execution_count": 69,
   "metadata": {},
   "outputs": [
    {
     "name": "stderr",
     "output_type": "stream",
     "text": [
      "C:\\Users\\Mama\\anaconda3\\lib\\site-packages\\ipykernel_launcher.py:2: SettingWithCopyWarning: \n",
      "A value is trying to be set on a copy of a slice from a DataFrame.\n",
      "Try using .loc[row_indexer,col_indexer] = value instead\n",
      "\n",
      "See the caveats in the documentation: https://pandas.pydata.org/pandas-docs/stable/user_guide/indexing.html#returning-a-view-versus-a-copy\n",
      "  \n",
      "C:\\Users\\Mama\\anaconda3\\lib\\site-packages\\ipykernel_launcher.py:3: SettingWithCopyWarning: \n",
      "A value is trying to be set on a copy of a slice from a DataFrame.\n",
      "Try using .loc[row_indexer,col_indexer] = value instead\n",
      "\n",
      "See the caveats in the documentation: https://pandas.pydata.org/pandas-docs/stable/user_guide/indexing.html#returning-a-view-versus-a-copy\n",
      "  This is separate from the ipykernel package so we can avoid doing imports until\n"
     ]
    }
   ],
   "source": [
    "# using map function, format numeric values into currency for analysis reporting\n",
    "Top_Spender_Summary_df[\"Average Purchase Price\"] = Top_Spender_Summary_df[\"Average Purchase Price\"].map(\"${:,.2f}\".format)\n",
    "Top_Spender_Summary_df[\"Total Purchase Value\"] = Top_Spender_Summary_df[\"Total Purchase Value\"].map(\"${:,.2f}\".format)"
   ]
  },
  {
   "cell_type": "code",
   "execution_count": 70,
   "metadata": {},
   "outputs": [
    {
     "data": {
      "text/html": [
       "<style  type=\"text/css\" >\n",
       "    #T_9002420a_c473_11ea_90f4_b0c0909a9ff8row0_col0 {\n",
       "            text-align:  left;\n",
       "        }    #T_9002420a_c473_11ea_90f4_b0c0909a9ff8row0_col1 {\n",
       "            text-align:  left;\n",
       "        }    #T_9002420a_c473_11ea_90f4_b0c0909a9ff8row0_col2 {\n",
       "            text-align:  left;\n",
       "        }    #T_9002420a_c473_11ea_90f4_b0c0909a9ff8row1_col0 {\n",
       "            text-align:  left;\n",
       "        }    #T_9002420a_c473_11ea_90f4_b0c0909a9ff8row1_col1 {\n",
       "            text-align:  left;\n",
       "        }    #T_9002420a_c473_11ea_90f4_b0c0909a9ff8row1_col2 {\n",
       "            text-align:  left;\n",
       "        }    #T_9002420a_c473_11ea_90f4_b0c0909a9ff8row2_col0 {\n",
       "            text-align:  left;\n",
       "        }    #T_9002420a_c473_11ea_90f4_b0c0909a9ff8row2_col1 {\n",
       "            text-align:  left;\n",
       "        }    #T_9002420a_c473_11ea_90f4_b0c0909a9ff8row2_col2 {\n",
       "            text-align:  left;\n",
       "        }    #T_9002420a_c473_11ea_90f4_b0c0909a9ff8row3_col0 {\n",
       "            text-align:  left;\n",
       "        }    #T_9002420a_c473_11ea_90f4_b0c0909a9ff8row3_col1 {\n",
       "            text-align:  left;\n",
       "        }    #T_9002420a_c473_11ea_90f4_b0c0909a9ff8row3_col2 {\n",
       "            text-align:  left;\n",
       "        }    #T_9002420a_c473_11ea_90f4_b0c0909a9ff8row4_col0 {\n",
       "            text-align:  left;\n",
       "        }    #T_9002420a_c473_11ea_90f4_b0c0909a9ff8row4_col1 {\n",
       "            text-align:  left;\n",
       "        }    #T_9002420a_c473_11ea_90f4_b0c0909a9ff8row4_col2 {\n",
       "            text-align:  left;\n",
       "        }</style><table id=\"T_9002420a_c473_11ea_90f4_b0c0909a9ff8\" ><thead>    <tr>        <th class=\"blank level0\" ></th>        <th class=\"col_heading level0 col0\" >Purchase Count</th>        <th class=\"col_heading level0 col1\" >Average Purchase Price</th>        <th class=\"col_heading level0 col2\" >Total Purchase Value</th>    </tr>    <tr>        <th class=\"index_name level0\" >SN</th>        <th class=\"blank\" ></th>        <th class=\"blank\" ></th>        <th class=\"blank\" ></th>    </tr></thead><tbody>\n",
       "                <tr>\n",
       "                        <th id=\"T_9002420a_c473_11ea_90f4_b0c0909a9ff8level0_row0\" class=\"row_heading level0 row0\" >Lisosia93</th>\n",
       "                        <td id=\"T_9002420a_c473_11ea_90f4_b0c0909a9ff8row0_col0\" class=\"data row0 col0\" >5</td>\n",
       "                        <td id=\"T_9002420a_c473_11ea_90f4_b0c0909a9ff8row0_col1\" class=\"data row0 col1\" >$3.79</td>\n",
       "                        <td id=\"T_9002420a_c473_11ea_90f4_b0c0909a9ff8row0_col2\" class=\"data row0 col2\" >$18.96</td>\n",
       "            </tr>\n",
       "            <tr>\n",
       "                        <th id=\"T_9002420a_c473_11ea_90f4_b0c0909a9ff8level0_row1\" class=\"row_heading level0 row1\" >Idastidru52</th>\n",
       "                        <td id=\"T_9002420a_c473_11ea_90f4_b0c0909a9ff8row1_col0\" class=\"data row1 col0\" >4</td>\n",
       "                        <td id=\"T_9002420a_c473_11ea_90f4_b0c0909a9ff8row1_col1\" class=\"data row1 col1\" >$3.86</td>\n",
       "                        <td id=\"T_9002420a_c473_11ea_90f4_b0c0909a9ff8row1_col2\" class=\"data row1 col2\" >$15.45</td>\n",
       "            </tr>\n",
       "            <tr>\n",
       "                        <th id=\"T_9002420a_c473_11ea_90f4_b0c0909a9ff8level0_row2\" class=\"row_heading level0 row2\" >Chamjask73</th>\n",
       "                        <td id=\"T_9002420a_c473_11ea_90f4_b0c0909a9ff8row2_col0\" class=\"data row2 col0\" >3</td>\n",
       "                        <td id=\"T_9002420a_c473_11ea_90f4_b0c0909a9ff8row2_col1\" class=\"data row2 col1\" >$4.61</td>\n",
       "                        <td id=\"T_9002420a_c473_11ea_90f4_b0c0909a9ff8row2_col2\" class=\"data row2 col2\" >$13.83</td>\n",
       "            </tr>\n",
       "            <tr>\n",
       "                        <th id=\"T_9002420a_c473_11ea_90f4_b0c0909a9ff8level0_row3\" class=\"row_heading level0 row3\" >Iral74</th>\n",
       "                        <td id=\"T_9002420a_c473_11ea_90f4_b0c0909a9ff8row3_col0\" class=\"data row3 col0\" >4</td>\n",
       "                        <td id=\"T_9002420a_c473_11ea_90f4_b0c0909a9ff8row3_col1\" class=\"data row3 col1\" >$3.40</td>\n",
       "                        <td id=\"T_9002420a_c473_11ea_90f4_b0c0909a9ff8row3_col2\" class=\"data row3 col2\" >$13.62</td>\n",
       "            </tr>\n",
       "            <tr>\n",
       "                        <th id=\"T_9002420a_c473_11ea_90f4_b0c0909a9ff8level0_row4\" class=\"row_heading level0 row4\" >Iskadarya95</th>\n",
       "                        <td id=\"T_9002420a_c473_11ea_90f4_b0c0909a9ff8row4_col0\" class=\"data row4 col0\" >3</td>\n",
       "                        <td id=\"T_9002420a_c473_11ea_90f4_b0c0909a9ff8row4_col1\" class=\"data row4 col1\" >$4.37</td>\n",
       "                        <td id=\"T_9002420a_c473_11ea_90f4_b0c0909a9ff8row4_col2\" class=\"data row4 col2\" >$13.10</td>\n",
       "            </tr>\n",
       "    </tbody></table>"
      ],
      "text/plain": [
       "<pandas.io.formats.style.Styler at 0x1dbf943ca48>"
      ]
     },
     "execution_count": 70,
     "metadata": {},
     "output_type": "execute_result"
    }
   ],
   "source": [
    "# align column values to the left\n",
    "Top_Spender_Summary_df = Top_Spender_Summary_df.style.set_properties(**{'text-align': 'left'})\n",
    "Top_Spender_Summary_df"
   ]
  },
  {
   "cell_type": "markdown",
   "metadata": {},
   "source": [
    "## Most Popular Items"
   ]
  },
  {
   "cell_type": "markdown",
   "metadata": {},
   "source": [
    "* Retrieve the Item ID, Item Name, and Item Price columns\n",
    "\n",
    "\n",
    "* Group by Item ID and Item Name. Perform calculations to obtain purchase count, item price, and total purchase value\n",
    "\n",
    "\n",
    "* Create a summary data frame to hold the results\n",
    "\n",
    "\n",
    "* Sort the purchase count column in descending order\n",
    "\n",
    "\n",
    "* Optional: give the displayed data cleaner formatting\n",
    "\n",
    "\n",
    "* Display a preview of the summary data frame\n",
    "\n"
   ]
  },
  {
   "cell_type": "code",
   "execution_count": 142,
   "metadata": {},
   "outputs": [],
   "source": [
    "# create a dataframe with Item ID & Item Name columns\n",
    "Item_Purchases_df = purchase_data[[\"Item ID\",\"Item Name\",\"Price\"]]"
   ]
  },
  {
   "cell_type": "code",
   "execution_count": 143,
   "metadata": {},
   "outputs": [],
   "source": [
    "# calculate how many purchases were made for each item\n",
    "Item_Purchase_Count_df = pd.DataFrame(Item_Purchases_df[\"Item ID\"].value_counts())\n",
    "Item_Purchase_Count_df = Item_Purchase_Count_df.reset_index(drop=False)"
   ]
  },
  {
   "cell_type": "code",
   "execution_count": 144,
   "metadata": {},
   "outputs": [],
   "source": [
    "# rename columns accordingly\n",
    "Item_Purchase_Count_df = Item_Purchase_Count_df.rename(columns={\"index\":\"Item ID\",\"Item ID\":\"Purchase Count\"})"
   ]
  },
  {
   "cell_type": "code",
   "execution_count": 145,
   "metadata": {},
   "outputs": [],
   "source": [
    "# create a new dataframe that will have Item ID & Item Name columns only\n",
    "Items_List_df = Item_Purchases_df[[\"Item ID\",\"Item Name\"]]\n",
    "Items_List_df = Items_List_df.drop_duplicates(keep='last')"
   ]
  },
  {
   "cell_type": "code",
   "execution_count": 146,
   "metadata": {},
   "outputs": [],
   "source": [
    "# create a new dataframe that will have Item ID & Price columns only\n",
    "Item_Price_df = Item_Purchases_df[[\"Item ID\",\"Price\"]]"
   ]
  },
  {
   "cell_type": "code",
   "execution_count": 147,
   "metadata": {},
   "outputs": [],
   "source": [
    "# calculate for the average price per Item (some items have different unit price)\n",
    "Item_Price_Ave = Item_Price_df.groupby([\"Item ID\"])\n",
    "Item_Price_Ave_df = pd.DataFrame(Item_Price_Ave[\"Price\"].mean())\n",
    "Item_Price_Ave_df = Item_Price_Ave_df.reset_index(drop=False)"
   ]
  },
  {
   "cell_type": "code",
   "execution_count": 148,
   "metadata": {},
   "outputs": [],
   "source": [
    "# rename columns accordingly\n",
    "Item_Price_Ave_df = Item_Price_Ave_df.rename(columns={\"Price\":\"Item Price\"})"
   ]
  },
  {
   "cell_type": "code",
   "execution_count": 149,
   "metadata": {},
   "outputs": [],
   "source": [
    "# calculate for the total purchase per Item\n",
    "Item_Total_df = pd.DataFrame(Item_Price_Ave[\"Price\"].sum())\n",
    "Item_Total_df = Item_Total_df.reset_index(drop=False)"
   ]
  },
  {
   "cell_type": "code",
   "execution_count": 150,
   "metadata": {},
   "outputs": [],
   "source": [
    "# rename columns accordingly\n",
    "Item_Total_df = Item_Total_df.rename(columns={\"Price\":\"Total Purchase Value\"})"
   ]
  },
  {
   "cell_type": "code",
   "execution_count": 151,
   "metadata": {},
   "outputs": [],
   "source": [
    "# merge dataframes to combine data for analysis summary\n",
    "Items_merge1_df = pd.merge(Items_List_df,Item_Purchase_Count_df,on=\"Item ID\")\n",
    "Items_merge2_df = pd.merge(Item_Price_Ave_df,Item_Total_df,on=\"Item ID\")\n",
    "Items_Purchase_Details_df = pd.merge(Items_merge1_df,Items_merge2_df,on=\"Item ID\")"
   ]
  },
  {
   "cell_type": "code",
   "execution_count": 152,
   "metadata": {},
   "outputs": [],
   "source": [
    "# sort in descending order to get the top-most purchased Item \n",
    "Items_Purchase_Count_Summary_df = Items_Purchase_Details_df.sort_values(\"Purchase Count\",ascending=False)\n",
    "# get the top 5 from the list\n",
    "Items_Purchase_Count_Summary_df = Items_Purchase_Count_Summary_df.iloc[0:5,:]"
   ]
  },
  {
   "cell_type": "code",
   "execution_count": 154,
   "metadata": {},
   "outputs": [],
   "source": [
    "# using map function, format numeric values into currency for analysis reporting\n",
    "Items_Purchase_Count_Summary_df[\"Item Price\"] = Items_Purchase_Count_Summary_df[\"Item Price\"].map(\"${:,.2f}\".format)\n",
    "Items_Purchase_Count_Summary_df[\"Total Purchase Value\"] = Items_Purchase_Count_Summary_df[\"Total Purchase Value\"].map(\"${:,.2f}\".format)"
   ]
  },
  {
   "cell_type": "code",
   "execution_count": 155,
   "metadata": {},
   "outputs": [],
   "source": [
    "# set Item ID and Item Name as index\n",
    "Items_Purchase_Count_Summary_df = Items_Purchase_Count_Summary_df.set_index(\"Item ID\",\"Item Name\")"
   ]
  },
  {
   "cell_type": "code",
   "execution_count": 156,
   "metadata": {},
   "outputs": [
    {
     "data": {
      "text/html": [
       "<style  type=\"text/css\" >\n",
       "    #T_f115e6fa_c475_11ea_a81b_b0c0909a9ff8row0_col0 {\n",
       "            text-align:  left;\n",
       "        }    #T_f115e6fa_c475_11ea_a81b_b0c0909a9ff8row0_col1 {\n",
       "            text-align:  left;\n",
       "        }    #T_f115e6fa_c475_11ea_a81b_b0c0909a9ff8row0_col2 {\n",
       "            text-align:  left;\n",
       "        }    #T_f115e6fa_c475_11ea_a81b_b0c0909a9ff8row0_col3 {\n",
       "            text-align:  left;\n",
       "        }    #T_f115e6fa_c475_11ea_a81b_b0c0909a9ff8row1_col0 {\n",
       "            text-align:  left;\n",
       "        }    #T_f115e6fa_c475_11ea_a81b_b0c0909a9ff8row1_col1 {\n",
       "            text-align:  left;\n",
       "        }    #T_f115e6fa_c475_11ea_a81b_b0c0909a9ff8row1_col2 {\n",
       "            text-align:  left;\n",
       "        }    #T_f115e6fa_c475_11ea_a81b_b0c0909a9ff8row1_col3 {\n",
       "            text-align:  left;\n",
       "        }    #T_f115e6fa_c475_11ea_a81b_b0c0909a9ff8row2_col0 {\n",
       "            text-align:  left;\n",
       "        }    #T_f115e6fa_c475_11ea_a81b_b0c0909a9ff8row2_col1 {\n",
       "            text-align:  left;\n",
       "        }    #T_f115e6fa_c475_11ea_a81b_b0c0909a9ff8row2_col2 {\n",
       "            text-align:  left;\n",
       "        }    #T_f115e6fa_c475_11ea_a81b_b0c0909a9ff8row2_col3 {\n",
       "            text-align:  left;\n",
       "        }    #T_f115e6fa_c475_11ea_a81b_b0c0909a9ff8row3_col0 {\n",
       "            text-align:  left;\n",
       "        }    #T_f115e6fa_c475_11ea_a81b_b0c0909a9ff8row3_col1 {\n",
       "            text-align:  left;\n",
       "        }    #T_f115e6fa_c475_11ea_a81b_b0c0909a9ff8row3_col2 {\n",
       "            text-align:  left;\n",
       "        }    #T_f115e6fa_c475_11ea_a81b_b0c0909a9ff8row3_col3 {\n",
       "            text-align:  left;\n",
       "        }    #T_f115e6fa_c475_11ea_a81b_b0c0909a9ff8row4_col0 {\n",
       "            text-align:  left;\n",
       "        }    #T_f115e6fa_c475_11ea_a81b_b0c0909a9ff8row4_col1 {\n",
       "            text-align:  left;\n",
       "        }    #T_f115e6fa_c475_11ea_a81b_b0c0909a9ff8row4_col2 {\n",
       "            text-align:  left;\n",
       "        }    #T_f115e6fa_c475_11ea_a81b_b0c0909a9ff8row4_col3 {\n",
       "            text-align:  left;\n",
       "        }</style><table id=\"T_f115e6fa_c475_11ea_a81b_b0c0909a9ff8\" ><thead>    <tr>        <th class=\"blank level0\" ></th>        <th class=\"col_heading level0 col0\" >Item Name</th>        <th class=\"col_heading level0 col1\" >Purchase Count</th>        <th class=\"col_heading level0 col2\" >Item Price</th>        <th class=\"col_heading level0 col3\" >Total Purchase Value</th>    </tr>    <tr>        <th class=\"index_name level0\" >Item ID</th>        <th class=\"blank\" ></th>        <th class=\"blank\" ></th>        <th class=\"blank\" ></th>        <th class=\"blank\" ></th>    </tr></thead><tbody>\n",
       "                <tr>\n",
       "                        <th id=\"T_f115e6fa_c475_11ea_a81b_b0c0909a9ff8level0_row0\" class=\"row_heading level0 row0\" >92</th>\n",
       "                        <td id=\"T_f115e6fa_c475_11ea_a81b_b0c0909a9ff8row0_col0\" class=\"data row0 col0\" >Final Critic</td>\n",
       "                        <td id=\"T_f115e6fa_c475_11ea_a81b_b0c0909a9ff8row0_col1\" class=\"data row0 col1\" >13</td>\n",
       "                        <td id=\"T_f115e6fa_c475_11ea_a81b_b0c0909a9ff8row0_col2\" class=\"data row0 col2\" >$4.61</td>\n",
       "                        <td id=\"T_f115e6fa_c475_11ea_a81b_b0c0909a9ff8row0_col3\" class=\"data row0 col3\" >$59.99</td>\n",
       "            </tr>\n",
       "            <tr>\n",
       "                        <th id=\"T_f115e6fa_c475_11ea_a81b_b0c0909a9ff8level0_row1\" class=\"row_heading level0 row1\" >178</th>\n",
       "                        <td id=\"T_f115e6fa_c475_11ea_a81b_b0c0909a9ff8row1_col0\" class=\"data row1 col0\" >Oathbreaker, Last Hope of the Breaking Storm</td>\n",
       "                        <td id=\"T_f115e6fa_c475_11ea_a81b_b0c0909a9ff8row1_col1\" class=\"data row1 col1\" >12</td>\n",
       "                        <td id=\"T_f115e6fa_c475_11ea_a81b_b0c0909a9ff8row1_col2\" class=\"data row1 col2\" >$4.23</td>\n",
       "                        <td id=\"T_f115e6fa_c475_11ea_a81b_b0c0909a9ff8row1_col3\" class=\"data row1 col3\" >$50.76</td>\n",
       "            </tr>\n",
       "            <tr>\n",
       "                        <th id=\"T_f115e6fa_c475_11ea_a81b_b0c0909a9ff8level0_row2\" class=\"row_heading level0 row2\" >108</th>\n",
       "                        <td id=\"T_f115e6fa_c475_11ea_a81b_b0c0909a9ff8row2_col0\" class=\"data row2 col0\" >Extraction, Quickblade Of Trembling Hands</td>\n",
       "                        <td id=\"T_f115e6fa_c475_11ea_a81b_b0c0909a9ff8row2_col1\" class=\"data row2 col1\" >9</td>\n",
       "                        <td id=\"T_f115e6fa_c475_11ea_a81b_b0c0909a9ff8row2_col2\" class=\"data row2 col2\" >$3.53</td>\n",
       "                        <td id=\"T_f115e6fa_c475_11ea_a81b_b0c0909a9ff8row2_col3\" class=\"data row2 col3\" >$31.77</td>\n",
       "            </tr>\n",
       "            <tr>\n",
       "                        <th id=\"T_f115e6fa_c475_11ea_a81b_b0c0909a9ff8level0_row3\" class=\"row_heading level0 row3\" >132</th>\n",
       "                        <td id=\"T_f115e6fa_c475_11ea_a81b_b0c0909a9ff8row3_col0\" class=\"data row3 col0\" >Persuasion</td>\n",
       "                        <td id=\"T_f115e6fa_c475_11ea_a81b_b0c0909a9ff8row3_col1\" class=\"data row3 col1\" >9</td>\n",
       "                        <td id=\"T_f115e6fa_c475_11ea_a81b_b0c0909a9ff8row3_col2\" class=\"data row3 col2\" >$3.22</td>\n",
       "                        <td id=\"T_f115e6fa_c475_11ea_a81b_b0c0909a9ff8row3_col3\" class=\"data row3 col3\" >$28.99</td>\n",
       "            </tr>\n",
       "            <tr>\n",
       "                        <th id=\"T_f115e6fa_c475_11ea_a81b_b0c0909a9ff8level0_row4\" class=\"row_heading level0 row4\" >82</th>\n",
       "                        <td id=\"T_f115e6fa_c475_11ea_a81b_b0c0909a9ff8row4_col0\" class=\"data row4 col0\" >Nirvana</td>\n",
       "                        <td id=\"T_f115e6fa_c475_11ea_a81b_b0c0909a9ff8row4_col1\" class=\"data row4 col1\" >9</td>\n",
       "                        <td id=\"T_f115e6fa_c475_11ea_a81b_b0c0909a9ff8row4_col2\" class=\"data row4 col2\" >$4.90</td>\n",
       "                        <td id=\"T_f115e6fa_c475_11ea_a81b_b0c0909a9ff8row4_col3\" class=\"data row4 col3\" >$44.10</td>\n",
       "            </tr>\n",
       "    </tbody></table>"
      ],
      "text/plain": [
       "<pandas.io.formats.style.Styler at 0x1dbf96cfe08>"
      ]
     },
     "execution_count": 156,
     "metadata": {},
     "output_type": "execute_result"
    }
   ],
   "source": [
    "# align values to the left\n",
    "Items_Purchase_Count_Summary_df = Items_Purchase_Count_Summary_df.style.set_properties(**{'text-align': 'left'})\n",
    "Items_Purchase_Count_Summary_df"
   ]
  },
  {
   "cell_type": "markdown",
   "metadata": {},
   "source": [
    "## Most Profitable Items"
   ]
  },
  {
   "cell_type": "markdown",
   "metadata": {},
   "source": [
    "* Sort the above table by total purchase value in descending order\n",
    "\n",
    "\n",
    "* Optional: give the displayed data cleaner formatting\n",
    "\n",
    "\n",
    "* Display a preview of the data frame\n",
    "\n"
   ]
  },
  {
   "cell_type": "code",
   "execution_count": 157,
   "metadata": {
    "scrolled": true
   },
   "outputs": [],
   "source": [
    "# sort in descending order to get the top-most total purchased value\n",
    "Items_Purchase_Value_Summary_df = Items_Purchase_Details_df.sort_values(\"Total Purchase Value\",ascending=False)\n",
    "# get the top 5 from the list\n",
    "Items_Purchase_Value_Summary_df = Items_Purchase_Value_Summary_df.iloc[0:5,:]"
   ]
  },
  {
   "cell_type": "code",
   "execution_count": 158,
   "metadata": {},
   "outputs": [],
   "source": [
    "# using map function, format numeric values into currency for analysis reporting\n",
    "Items_Purchase_Value_Summary_df[\"Item Price\"] = Items_Purchase_Value_Summary_df[\"Item Price\"].map(\"${:,.2f}\".format)\n",
    "Items_Purchase_Value_Summary_df[\"Total Purchase Value\"] = Items_Purchase_Value_Summary_df[\"Total Purchase Value\"].map(\"${:,.2f}\".format)"
   ]
  },
  {
   "cell_type": "code",
   "execution_count": 159,
   "metadata": {},
   "outputs": [
    {
     "data": {
      "text/html": [
       "<style  type=\"text/css\" >\n",
       "    #T_f8b3f418_c475_11ea_a2b0_b0c0909a9ff8row0_col0 {\n",
       "            text-align:  left;\n",
       "        }    #T_f8b3f418_c475_11ea_a2b0_b0c0909a9ff8row0_col1 {\n",
       "            text-align:  left;\n",
       "        }    #T_f8b3f418_c475_11ea_a2b0_b0c0909a9ff8row0_col2 {\n",
       "            text-align:  left;\n",
       "        }    #T_f8b3f418_c475_11ea_a2b0_b0c0909a9ff8row0_col3 {\n",
       "            text-align:  left;\n",
       "        }    #T_f8b3f418_c475_11ea_a2b0_b0c0909a9ff8row0_col4 {\n",
       "            text-align:  left;\n",
       "        }    #T_f8b3f418_c475_11ea_a2b0_b0c0909a9ff8row1_col0 {\n",
       "            text-align:  left;\n",
       "        }    #T_f8b3f418_c475_11ea_a2b0_b0c0909a9ff8row1_col1 {\n",
       "            text-align:  left;\n",
       "        }    #T_f8b3f418_c475_11ea_a2b0_b0c0909a9ff8row1_col2 {\n",
       "            text-align:  left;\n",
       "        }    #T_f8b3f418_c475_11ea_a2b0_b0c0909a9ff8row1_col3 {\n",
       "            text-align:  left;\n",
       "        }    #T_f8b3f418_c475_11ea_a2b0_b0c0909a9ff8row1_col4 {\n",
       "            text-align:  left;\n",
       "        }    #T_f8b3f418_c475_11ea_a2b0_b0c0909a9ff8row2_col0 {\n",
       "            text-align:  left;\n",
       "        }    #T_f8b3f418_c475_11ea_a2b0_b0c0909a9ff8row2_col1 {\n",
       "            text-align:  left;\n",
       "        }    #T_f8b3f418_c475_11ea_a2b0_b0c0909a9ff8row2_col2 {\n",
       "            text-align:  left;\n",
       "        }    #T_f8b3f418_c475_11ea_a2b0_b0c0909a9ff8row2_col3 {\n",
       "            text-align:  left;\n",
       "        }    #T_f8b3f418_c475_11ea_a2b0_b0c0909a9ff8row2_col4 {\n",
       "            text-align:  left;\n",
       "        }    #T_f8b3f418_c475_11ea_a2b0_b0c0909a9ff8row3_col0 {\n",
       "            text-align:  left;\n",
       "        }    #T_f8b3f418_c475_11ea_a2b0_b0c0909a9ff8row3_col1 {\n",
       "            text-align:  left;\n",
       "        }    #T_f8b3f418_c475_11ea_a2b0_b0c0909a9ff8row3_col2 {\n",
       "            text-align:  left;\n",
       "        }    #T_f8b3f418_c475_11ea_a2b0_b0c0909a9ff8row3_col3 {\n",
       "            text-align:  left;\n",
       "        }    #T_f8b3f418_c475_11ea_a2b0_b0c0909a9ff8row3_col4 {\n",
       "            text-align:  left;\n",
       "        }    #T_f8b3f418_c475_11ea_a2b0_b0c0909a9ff8row4_col0 {\n",
       "            text-align:  left;\n",
       "        }    #T_f8b3f418_c475_11ea_a2b0_b0c0909a9ff8row4_col1 {\n",
       "            text-align:  left;\n",
       "        }    #T_f8b3f418_c475_11ea_a2b0_b0c0909a9ff8row4_col2 {\n",
       "            text-align:  left;\n",
       "        }    #T_f8b3f418_c475_11ea_a2b0_b0c0909a9ff8row4_col3 {\n",
       "            text-align:  left;\n",
       "        }    #T_f8b3f418_c475_11ea_a2b0_b0c0909a9ff8row4_col4 {\n",
       "            text-align:  left;\n",
       "        }</style><table id=\"T_f8b3f418_c475_11ea_a2b0_b0c0909a9ff8\" ><thead>    <tr>        <th class=\"blank level0\" ></th>        <th class=\"col_heading level0 col0\" >Item ID</th>        <th class=\"col_heading level0 col1\" >Item Name</th>        <th class=\"col_heading level0 col2\" >Purchase Count</th>        <th class=\"col_heading level0 col3\" >Item Price</th>        <th class=\"col_heading level0 col4\" >Total Purchase Value</th>    </tr></thead><tbody>\n",
       "                <tr>\n",
       "                        <th id=\"T_f8b3f418_c475_11ea_a2b0_b0c0909a9ff8level0_row0\" class=\"row_heading level0 row0\" >177</th>\n",
       "                        <td id=\"T_f8b3f418_c475_11ea_a2b0_b0c0909a9ff8row0_col0\" class=\"data row0 col0\" >92</td>\n",
       "                        <td id=\"T_f8b3f418_c475_11ea_a2b0_b0c0909a9ff8row0_col1\" class=\"data row0 col1\" >Final Critic</td>\n",
       "                        <td id=\"T_f8b3f418_c475_11ea_a2b0_b0c0909a9ff8row0_col2\" class=\"data row0 col2\" >13</td>\n",
       "                        <td id=\"T_f8b3f418_c475_11ea_a2b0_b0c0909a9ff8row0_col3\" class=\"data row0 col3\" >$4.61</td>\n",
       "                        <td id=\"T_f8b3f418_c475_11ea_a2b0_b0c0909a9ff8row0_col4\" class=\"data row0 col4\" >$59.99</td>\n",
       "            </tr>\n",
       "            <tr>\n",
       "                        <th id=\"T_f8b3f418_c475_11ea_a2b0_b0c0909a9ff8level0_row1\" class=\"row_heading level0 row1\" >155</th>\n",
       "                        <td id=\"T_f8b3f418_c475_11ea_a2b0_b0c0909a9ff8row1_col0\" class=\"data row1 col0\" >178</td>\n",
       "                        <td id=\"T_f8b3f418_c475_11ea_a2b0_b0c0909a9ff8row1_col1\" class=\"data row1 col1\" >Oathbreaker, Last Hope of the Breaking Storm</td>\n",
       "                        <td id=\"T_f8b3f418_c475_11ea_a2b0_b0c0909a9ff8row1_col2\" class=\"data row1 col2\" >12</td>\n",
       "                        <td id=\"T_f8b3f418_c475_11ea_a2b0_b0c0909a9ff8row1_col3\" class=\"data row1 col3\" >$4.23</td>\n",
       "                        <td id=\"T_f8b3f418_c475_11ea_a2b0_b0c0909a9ff8row1_col4\" class=\"data row1 col4\" >$50.76</td>\n",
       "            </tr>\n",
       "            <tr>\n",
       "                        <th id=\"T_f8b3f418_c475_11ea_a2b0_b0c0909a9ff8level0_row2\" class=\"row_heading level0 row2\" >93</th>\n",
       "                        <td id=\"T_f8b3f418_c475_11ea_a2b0_b0c0909a9ff8row2_col0\" class=\"data row2 col0\" >82</td>\n",
       "                        <td id=\"T_f8b3f418_c475_11ea_a2b0_b0c0909a9ff8row2_col1\" class=\"data row2 col1\" >Nirvana</td>\n",
       "                        <td id=\"T_f8b3f418_c475_11ea_a2b0_b0c0909a9ff8row2_col2\" class=\"data row2 col2\" >9</td>\n",
       "                        <td id=\"T_f8b3f418_c475_11ea_a2b0_b0c0909a9ff8row2_col3\" class=\"data row2 col3\" >$4.90</td>\n",
       "                        <td id=\"T_f8b3f418_c475_11ea_a2b0_b0c0909a9ff8row2_col4\" class=\"data row2 col4\" >$44.10</td>\n",
       "            </tr>\n",
       "            <tr>\n",
       "                        <th id=\"T_f8b3f418_c475_11ea_a2b0_b0c0909a9ff8level0_row3\" class=\"row_heading level0 row3\" >169</th>\n",
       "                        <td id=\"T_f8b3f418_c475_11ea_a2b0_b0c0909a9ff8row3_col0\" class=\"data row3 col0\" >145</td>\n",
       "                        <td id=\"T_f8b3f418_c475_11ea_a2b0_b0c0909a9ff8row3_col1\" class=\"data row3 col1\" >Fiery Glass Crusader</td>\n",
       "                        <td id=\"T_f8b3f418_c475_11ea_a2b0_b0c0909a9ff8row3_col2\" class=\"data row3 col2\" >9</td>\n",
       "                        <td id=\"T_f8b3f418_c475_11ea_a2b0_b0c0909a9ff8row3_col3\" class=\"data row3 col3\" >$4.58</td>\n",
       "                        <td id=\"T_f8b3f418_c475_11ea_a2b0_b0c0909a9ff8row3_col4\" class=\"data row3 col4\" >$41.22</td>\n",
       "            </tr>\n",
       "            <tr>\n",
       "                        <th id=\"T_f8b3f418_c475_11ea_a2b0_b0c0909a9ff8level0_row4\" class=\"row_heading level0 row4\" >125</th>\n",
       "                        <td id=\"T_f8b3f418_c475_11ea_a2b0_b0c0909a9ff8row4_col0\" class=\"data row4 col0\" >103</td>\n",
       "                        <td id=\"T_f8b3f418_c475_11ea_a2b0_b0c0909a9ff8row4_col1\" class=\"data row4 col1\" >Singed Scalpel</td>\n",
       "                        <td id=\"T_f8b3f418_c475_11ea_a2b0_b0c0909a9ff8row4_col2\" class=\"data row4 col2\" >8</td>\n",
       "                        <td id=\"T_f8b3f418_c475_11ea_a2b0_b0c0909a9ff8row4_col3\" class=\"data row4 col3\" >$4.35</td>\n",
       "                        <td id=\"T_f8b3f418_c475_11ea_a2b0_b0c0909a9ff8row4_col4\" class=\"data row4 col4\" >$34.80</td>\n",
       "            </tr>\n",
       "    </tbody></table>"
      ],
      "text/plain": [
       "<pandas.io.formats.style.Styler at 0x1dbf9459288>"
      ]
     },
     "execution_count": 159,
     "metadata": {},
     "output_type": "execute_result"
    }
   ],
   "source": [
    "# align values to the left\n",
    "Items_Purchase_Value_Summary_df = Items_Purchase_Value_Summary_df.style.set_properties(**{'text-align': 'left'})\n",
    "Items_Purchase_Value_Summary_df"
   ]
  },
  {
   "cell_type": "markdown",
   "metadata": {},
   "source": [
    "# Observable Trends"
   ]
  },
  {
   "cell_type": "markdown",
   "metadata": {},
   "source": [
    "1. A huge percentage of games are male (84%!). Female gamers are only at 14%.  \n",
    "2. Almost 50% of gamers are young adults, followed by high school age which is about 20%.\n",
    "3. Top spenders are young male adults. It follows that the topmost popular items are purchased mostly by this group."
   ]
  }
 ],
 "metadata": {
  "anaconda-cloud": {},
  "kernel_info": {
   "name": "python3"
  },
  "kernelspec": {
   "display_name": "Python 3",
   "language": "python",
   "name": "python3"
  },
  "language_info": {
   "codemirror_mode": {
    "name": "ipython",
    "version": 3
   },
   "file_extension": ".py",
   "mimetype": "text/x-python",
   "name": "python",
   "nbconvert_exporter": "python",
   "pygments_lexer": "ipython3",
   "version": "3.7.6"
  },
  "latex_envs": {
   "LaTeX_envs_menu_present": true,
   "autoclose": false,
   "autocomplete": true,
   "bibliofile": "biblio.bib",
   "cite_by": "apalike",
   "current_citInitial": 1,
   "eqLabelWithNumbers": true,
   "eqNumInitial": 1,
   "hotkeys": {
    "equation": "Ctrl-E",
    "itemize": "Ctrl-I"
   },
   "labels_anchors": false,
   "latex_user_defs": false,
   "report_style_numbering": false,
   "user_envs_cfg": false
  },
  "nteract": {
   "version": "0.2.0"
  }
 },
 "nbformat": 4,
 "nbformat_minor": 2
}
